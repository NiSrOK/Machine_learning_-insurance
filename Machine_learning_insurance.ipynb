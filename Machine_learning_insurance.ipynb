{
  "nbformat": 4,
  "nbformat_minor": 0,
  "metadata": {
    "colab": {
      "name": "Machine_learning_insurance",
      "provenance": [],
      "collapsed_sections": [],
      "toc_visible": true
    },
    "kernelspec": {
      "name": "python3",
      "display_name": "Python 3"
    },
    "accelerator": "TPU"
  },
  "cells": [
    {
      "cell_type": "markdown",
      "metadata": {
        "id": "UjfquuN3HkHt"
      },
      "source": [
        "# Корнилов А.И.\n",
        "#  18-АС\n",
        "#  6 Вариант"
      ]
    },
    {
      "cell_type": "markdown",
      "metadata": {
        "id": "MCGbL2PD2gop"
      },
      "source": [
        "**Устанавливаем keras tuner.**"
      ]
    },
    {
      "cell_type": "code",
      "metadata": {
        "id": "jegt9fWo2U4_",
        "outputId": "752cb9df-9c94-4e39-e60b-2b2433a1cf06",
        "colab": {
          "base_uri": "https://localhost:8080/",
          "height": 504
        }
      },
      "source": [
        "!pip install -U keras-tuner"
      ],
      "execution_count": null,
      "outputs": [
        {
          "output_type": "stream",
          "text": [
            "Collecting keras-tuner\n",
            "\u001b[?25l  Downloading https://files.pythonhosted.org/packages/a7/f7/4b41b6832abf4c9bef71a664dc563adb25afc5812831667c6db572b1a261/keras-tuner-1.0.1.tar.gz (54kB)\n",
            "\r\u001b[K     |██████                          | 10kB 6.9MB/s eta 0:00:01\r\u001b[K     |████████████                    | 20kB 2.0MB/s eta 0:00:01\r\u001b[K     |██████████████████              | 30kB 2.4MB/s eta 0:00:01\r\u001b[K     |████████████████████████        | 40kB 2.3MB/s eta 0:00:01\r\u001b[K     |██████████████████████████████  | 51kB 2.2MB/s eta 0:00:01\r\u001b[K     |████████████████████████████████| 61kB 2.0MB/s \n",
            "\u001b[?25hRequirement already satisfied, skipping upgrade: future in /usr/local/lib/python3.6/dist-packages (from keras-tuner) (0.16.0)\n",
            "Requirement already satisfied, skipping upgrade: numpy in /usr/local/lib/python3.6/dist-packages (from keras-tuner) (1.18.5)\n",
            "Requirement already satisfied, skipping upgrade: tabulate in /usr/local/lib/python3.6/dist-packages (from keras-tuner) (0.8.7)\n",
            "Collecting terminaltables\n",
            "  Downloading https://files.pythonhosted.org/packages/9b/c4/4a21174f32f8a7e1104798c445dacdc1d4df86f2f26722767034e4de4bff/terminaltables-3.1.0.tar.gz\n",
            "Collecting colorama\n",
            "  Downloading https://files.pythonhosted.org/packages/c9/dc/45cdef1b4d119eb96316b3117e6d5708a08029992b2fee2c143c7a0a5cc5/colorama-0.4.3-py2.py3-none-any.whl\n",
            "Requirement already satisfied, skipping upgrade: tqdm in /usr/local/lib/python3.6/dist-packages (from keras-tuner) (4.41.1)\n",
            "Requirement already satisfied, skipping upgrade: requests in /usr/local/lib/python3.6/dist-packages (from keras-tuner) (2.23.0)\n",
            "Requirement already satisfied, skipping upgrade: scipy in /usr/local/lib/python3.6/dist-packages (from keras-tuner) (1.4.1)\n",
            "Requirement already satisfied, skipping upgrade: scikit-learn in /usr/local/lib/python3.6/dist-packages (from keras-tuner) (0.22.2.post1)\n",
            "Requirement already satisfied, skipping upgrade: idna<3,>=2.5 in /usr/local/lib/python3.6/dist-packages (from requests->keras-tuner) (2.10)\n",
            "Requirement already satisfied, skipping upgrade: chardet<4,>=3.0.2 in /usr/local/lib/python3.6/dist-packages (from requests->keras-tuner) (3.0.4)\n",
            "Requirement already satisfied, skipping upgrade: urllib3!=1.25.0,!=1.25.1,<1.26,>=1.21.1 in /usr/local/lib/python3.6/dist-packages (from requests->keras-tuner) (1.24.3)\n",
            "Requirement already satisfied, skipping upgrade: certifi>=2017.4.17 in /usr/local/lib/python3.6/dist-packages (from requests->keras-tuner) (2020.6.20)\n",
            "Requirement already satisfied, skipping upgrade: joblib>=0.11 in /usr/local/lib/python3.6/dist-packages (from scikit-learn->keras-tuner) (0.16.0)\n",
            "Building wheels for collected packages: keras-tuner, terminaltables\n",
            "  Building wheel for keras-tuner (setup.py) ... \u001b[?25l\u001b[?25hdone\n",
            "  Created wheel for keras-tuner: filename=keras_tuner-1.0.1-cp36-none-any.whl size=73200 sha256=bf1a6c779ef993b89b7777620356f5758434b6c650df4ba29ae649bbc5eccc45\n",
            "  Stored in directory: /root/.cache/pip/wheels/b9/cc/62/52716b70dd90f3db12519233c3a93a5360bc672da1a10ded43\n",
            "  Building wheel for terminaltables (setup.py) ... \u001b[?25l\u001b[?25hdone\n",
            "  Created wheel for terminaltables: filename=terminaltables-3.1.0-cp36-none-any.whl size=15356 sha256=ad87e0ab25cd6b1c5459cbd4a4485747c43980332179d376db404c1c00da99f4\n",
            "  Stored in directory: /root/.cache/pip/wheels/30/6b/50/6c75775b681fb36cdfac7f19799888ef9d8813aff9e379663e\n",
            "Successfully built keras-tuner terminaltables\n",
            "Installing collected packages: terminaltables, colorama, keras-tuner\n",
            "Successfully installed colorama-0.4.3 keras-tuner-1.0.1 terminaltables-3.1.0\n"
          ],
          "name": "stdout"
        }
      ]
    },
    {
      "cell_type": "markdown",
      "metadata": {
        "id": "cZuoanfADQwh"
      },
      "source": [
        "**Импортируем модули.**"
      ]
    },
    {
      "cell_type": "code",
      "metadata": {
        "id": "cw9P9xNVDRzH"
      },
      "source": [
        "from tensorflow.python.keras.models import Sequential\n",
        "from tensorflow.python.keras.layers import Dense, Dropout\n",
        "from sklearn.preprocessing import LabelEncoder\n",
        "from tensorflow.keras.callbacks import Callback\n",
        "from kerastuner.tuners import Hyperband\n",
        "import IPython\n",
        "import numpy as np\n",
        "from google.colab import files\n",
        "import pandas as pd\n",
        "import matplotlib.pyplot as plt"
      ],
      "execution_count": null,
      "outputs": []
    },
    {
      "cell_type": "markdown",
      "metadata": {
        "id": "w6uHmztK4YP_"
      },
      "source": [
        "**Загружаем данные**"
      ]
    },
    {
      "cell_type": "code",
      "metadata": {
        "id": "rHCBKmpB2ans",
        "outputId": "62fa6950-9762-4b00-c272-34fafb2371a6",
        "colab": {
          "base_uri": "https://localhost:8080/",
          "height": 34
        }
      },
      "source": [
        "from google.colab import drive\n",
        "drive.mount('/content/drive')"
      ],
      "execution_count": null,
      "outputs": [
        {
          "output_type": "stream",
          "text": [
            "Mounted at /content/drive\n"
          ],
          "name": "stdout"
        }
      ]
    },
    {
      "cell_type": "code",
      "metadata": {
        "id": "8x2Q8MkORzGi"
      },
      "source": [
        "train = pd.read_csv(\"/content/drive/My Drive/train.csv\")"
      ],
      "execution_count": null,
      "outputs": []
    },
    {
      "cell_type": "markdown",
      "metadata": {
        "id": "FaxQEJNPINzd"
      },
      "source": [
        "**Просмотр данных**"
      ]
    },
    {
      "cell_type": "code",
      "metadata": {
        "id": "aDf6D6lUVQ1k",
        "outputId": "f2935b49-e170-4abb-8978-246a706690ac",
        "colab": {
          "base_uri": "https://localhost:8080/",
          "height": 244
        }
      },
      "source": [
        "train.head()"
      ],
      "execution_count": null,
      "outputs": [
        {
          "output_type": "execute_result",
          "data": {
            "text/html": [
              "<div>\n",
              "<style scoped>\n",
              "    .dataframe tbody tr th:only-of-type {\n",
              "        vertical-align: middle;\n",
              "    }\n",
              "\n",
              "    .dataframe tbody tr th {\n",
              "        vertical-align: top;\n",
              "    }\n",
              "\n",
              "    .dataframe thead th {\n",
              "        text-align: right;\n",
              "    }\n",
              "</style>\n",
              "<table border=\"1\" class=\"dataframe\">\n",
              "  <thead>\n",
              "    <tr style=\"text-align: right;\">\n",
              "      <th></th>\n",
              "      <th>id</th>\n",
              "      <th>cat1</th>\n",
              "      <th>cat2</th>\n",
              "      <th>cat3</th>\n",
              "      <th>cat4</th>\n",
              "      <th>cat5</th>\n",
              "      <th>cat6</th>\n",
              "      <th>cat7</th>\n",
              "      <th>cat8</th>\n",
              "      <th>cat9</th>\n",
              "      <th>cat10</th>\n",
              "      <th>cat11</th>\n",
              "      <th>cat12</th>\n",
              "      <th>cat13</th>\n",
              "      <th>cat14</th>\n",
              "      <th>cat15</th>\n",
              "      <th>cat16</th>\n",
              "      <th>cat17</th>\n",
              "      <th>cat18</th>\n",
              "      <th>cat19</th>\n",
              "      <th>cat20</th>\n",
              "      <th>cat21</th>\n",
              "      <th>cat22</th>\n",
              "      <th>cat23</th>\n",
              "      <th>cat24</th>\n",
              "      <th>cat25</th>\n",
              "      <th>cat26</th>\n",
              "      <th>cat27</th>\n",
              "      <th>cat28</th>\n",
              "      <th>cat29</th>\n",
              "      <th>cat30</th>\n",
              "      <th>cat31</th>\n",
              "      <th>cat32</th>\n",
              "      <th>cat33</th>\n",
              "      <th>cat34</th>\n",
              "      <th>cat35</th>\n",
              "      <th>cat36</th>\n",
              "      <th>cat37</th>\n",
              "      <th>cat38</th>\n",
              "      <th>cat39</th>\n",
              "      <th>...</th>\n",
              "      <th>cat92</th>\n",
              "      <th>cat93</th>\n",
              "      <th>cat94</th>\n",
              "      <th>cat95</th>\n",
              "      <th>cat96</th>\n",
              "      <th>cat97</th>\n",
              "      <th>cat98</th>\n",
              "      <th>cat99</th>\n",
              "      <th>cat100</th>\n",
              "      <th>cat101</th>\n",
              "      <th>cat102</th>\n",
              "      <th>cat103</th>\n",
              "      <th>cat104</th>\n",
              "      <th>cat105</th>\n",
              "      <th>cat106</th>\n",
              "      <th>cat107</th>\n",
              "      <th>cat108</th>\n",
              "      <th>cat109</th>\n",
              "      <th>cat110</th>\n",
              "      <th>cat111</th>\n",
              "      <th>cat112</th>\n",
              "      <th>cat113</th>\n",
              "      <th>cat114</th>\n",
              "      <th>cat115</th>\n",
              "      <th>cat116</th>\n",
              "      <th>cont1</th>\n",
              "      <th>cont2</th>\n",
              "      <th>cont3</th>\n",
              "      <th>cont4</th>\n",
              "      <th>cont5</th>\n",
              "      <th>cont6</th>\n",
              "      <th>cont7</th>\n",
              "      <th>cont8</th>\n",
              "      <th>cont9</th>\n",
              "      <th>cont10</th>\n",
              "      <th>cont11</th>\n",
              "      <th>cont12</th>\n",
              "      <th>cont13</th>\n",
              "      <th>cont14</th>\n",
              "      <th>loss</th>\n",
              "    </tr>\n",
              "  </thead>\n",
              "  <tbody>\n",
              "    <tr>\n",
              "      <th>0</th>\n",
              "      <td>1</td>\n",
              "      <td>A</td>\n",
              "      <td>B</td>\n",
              "      <td>A</td>\n",
              "      <td>B</td>\n",
              "      <td>A</td>\n",
              "      <td>A</td>\n",
              "      <td>A</td>\n",
              "      <td>A</td>\n",
              "      <td>B</td>\n",
              "      <td>A</td>\n",
              "      <td>B</td>\n",
              "      <td>A</td>\n",
              "      <td>A</td>\n",
              "      <td>A</td>\n",
              "      <td>A</td>\n",
              "      <td>A</td>\n",
              "      <td>A</td>\n",
              "      <td>A</td>\n",
              "      <td>A</td>\n",
              "      <td>A</td>\n",
              "      <td>A</td>\n",
              "      <td>A</td>\n",
              "      <td>B</td>\n",
              "      <td>A</td>\n",
              "      <td>A</td>\n",
              "      <td>A</td>\n",
              "      <td>A</td>\n",
              "      <td>A</td>\n",
              "      <td>A</td>\n",
              "      <td>A</td>\n",
              "      <td>A</td>\n",
              "      <td>A</td>\n",
              "      <td>A</td>\n",
              "      <td>A</td>\n",
              "      <td>A</td>\n",
              "      <td>A</td>\n",
              "      <td>A</td>\n",
              "      <td>A</td>\n",
              "      <td>A</td>\n",
              "      <td>...</td>\n",
              "      <td>A</td>\n",
              "      <td>D</td>\n",
              "      <td>B</td>\n",
              "      <td>C</td>\n",
              "      <td>E</td>\n",
              "      <td>A</td>\n",
              "      <td>C</td>\n",
              "      <td>T</td>\n",
              "      <td>B</td>\n",
              "      <td>G</td>\n",
              "      <td>A</td>\n",
              "      <td>A</td>\n",
              "      <td>I</td>\n",
              "      <td>E</td>\n",
              "      <td>G</td>\n",
              "      <td>J</td>\n",
              "      <td>G</td>\n",
              "      <td>BU</td>\n",
              "      <td>BC</td>\n",
              "      <td>C</td>\n",
              "      <td>AS</td>\n",
              "      <td>S</td>\n",
              "      <td>A</td>\n",
              "      <td>O</td>\n",
              "      <td>LB</td>\n",
              "      <td>0.726300</td>\n",
              "      <td>0.245921</td>\n",
              "      <td>0.187583</td>\n",
              "      <td>0.789639</td>\n",
              "      <td>0.310061</td>\n",
              "      <td>0.718367</td>\n",
              "      <td>0.335060</td>\n",
              "      <td>0.30260</td>\n",
              "      <td>0.67135</td>\n",
              "      <td>0.83510</td>\n",
              "      <td>0.569745</td>\n",
              "      <td>0.594646</td>\n",
              "      <td>0.822493</td>\n",
              "      <td>0.714843</td>\n",
              "      <td>2213.18</td>\n",
              "    </tr>\n",
              "    <tr>\n",
              "      <th>1</th>\n",
              "      <td>2</td>\n",
              "      <td>A</td>\n",
              "      <td>B</td>\n",
              "      <td>A</td>\n",
              "      <td>A</td>\n",
              "      <td>A</td>\n",
              "      <td>A</td>\n",
              "      <td>A</td>\n",
              "      <td>A</td>\n",
              "      <td>B</td>\n",
              "      <td>B</td>\n",
              "      <td>A</td>\n",
              "      <td>A</td>\n",
              "      <td>A</td>\n",
              "      <td>A</td>\n",
              "      <td>A</td>\n",
              "      <td>A</td>\n",
              "      <td>A</td>\n",
              "      <td>A</td>\n",
              "      <td>A</td>\n",
              "      <td>A</td>\n",
              "      <td>A</td>\n",
              "      <td>A</td>\n",
              "      <td>A</td>\n",
              "      <td>A</td>\n",
              "      <td>A</td>\n",
              "      <td>A</td>\n",
              "      <td>A</td>\n",
              "      <td>A</td>\n",
              "      <td>A</td>\n",
              "      <td>A</td>\n",
              "      <td>A</td>\n",
              "      <td>A</td>\n",
              "      <td>A</td>\n",
              "      <td>A</td>\n",
              "      <td>A</td>\n",
              "      <td>A</td>\n",
              "      <td>A</td>\n",
              "      <td>A</td>\n",
              "      <td>A</td>\n",
              "      <td>...</td>\n",
              "      <td>A</td>\n",
              "      <td>D</td>\n",
              "      <td>D</td>\n",
              "      <td>C</td>\n",
              "      <td>E</td>\n",
              "      <td>E</td>\n",
              "      <td>D</td>\n",
              "      <td>T</td>\n",
              "      <td>L</td>\n",
              "      <td>F</td>\n",
              "      <td>A</td>\n",
              "      <td>A</td>\n",
              "      <td>E</td>\n",
              "      <td>E</td>\n",
              "      <td>I</td>\n",
              "      <td>K</td>\n",
              "      <td>K</td>\n",
              "      <td>BI</td>\n",
              "      <td>CQ</td>\n",
              "      <td>A</td>\n",
              "      <td>AV</td>\n",
              "      <td>BM</td>\n",
              "      <td>A</td>\n",
              "      <td>O</td>\n",
              "      <td>DP</td>\n",
              "      <td>0.330514</td>\n",
              "      <td>0.737068</td>\n",
              "      <td>0.592681</td>\n",
              "      <td>0.614134</td>\n",
              "      <td>0.885834</td>\n",
              "      <td>0.438917</td>\n",
              "      <td>0.436585</td>\n",
              "      <td>0.60087</td>\n",
              "      <td>0.35127</td>\n",
              "      <td>0.43919</td>\n",
              "      <td>0.338312</td>\n",
              "      <td>0.366307</td>\n",
              "      <td>0.611431</td>\n",
              "      <td>0.304496</td>\n",
              "      <td>1283.60</td>\n",
              "    </tr>\n",
              "    <tr>\n",
              "      <th>2</th>\n",
              "      <td>5</td>\n",
              "      <td>A</td>\n",
              "      <td>B</td>\n",
              "      <td>A</td>\n",
              "      <td>A</td>\n",
              "      <td>B</td>\n",
              "      <td>A</td>\n",
              "      <td>A</td>\n",
              "      <td>A</td>\n",
              "      <td>B</td>\n",
              "      <td>B</td>\n",
              "      <td>B</td>\n",
              "      <td>B</td>\n",
              "      <td>B</td>\n",
              "      <td>A</td>\n",
              "      <td>A</td>\n",
              "      <td>A</td>\n",
              "      <td>A</td>\n",
              "      <td>A</td>\n",
              "      <td>A</td>\n",
              "      <td>A</td>\n",
              "      <td>A</td>\n",
              "      <td>A</td>\n",
              "      <td>A</td>\n",
              "      <td>A</td>\n",
              "      <td>A</td>\n",
              "      <td>A</td>\n",
              "      <td>A</td>\n",
              "      <td>A</td>\n",
              "      <td>A</td>\n",
              "      <td>A</td>\n",
              "      <td>A</td>\n",
              "      <td>A</td>\n",
              "      <td>A</td>\n",
              "      <td>A</td>\n",
              "      <td>A</td>\n",
              "      <td>B</td>\n",
              "      <td>A</td>\n",
              "      <td>A</td>\n",
              "      <td>A</td>\n",
              "      <td>...</td>\n",
              "      <td>A</td>\n",
              "      <td>D</td>\n",
              "      <td>D</td>\n",
              "      <td>C</td>\n",
              "      <td>E</td>\n",
              "      <td>E</td>\n",
              "      <td>A</td>\n",
              "      <td>D</td>\n",
              "      <td>L</td>\n",
              "      <td>O</td>\n",
              "      <td>A</td>\n",
              "      <td>B</td>\n",
              "      <td>E</td>\n",
              "      <td>F</td>\n",
              "      <td>H</td>\n",
              "      <td>F</td>\n",
              "      <td>A</td>\n",
              "      <td>AB</td>\n",
              "      <td>DK</td>\n",
              "      <td>A</td>\n",
              "      <td>C</td>\n",
              "      <td>AF</td>\n",
              "      <td>A</td>\n",
              "      <td>I</td>\n",
              "      <td>GK</td>\n",
              "      <td>0.261841</td>\n",
              "      <td>0.358319</td>\n",
              "      <td>0.484196</td>\n",
              "      <td>0.236924</td>\n",
              "      <td>0.397069</td>\n",
              "      <td>0.289648</td>\n",
              "      <td>0.315545</td>\n",
              "      <td>0.27320</td>\n",
              "      <td>0.26076</td>\n",
              "      <td>0.32446</td>\n",
              "      <td>0.381398</td>\n",
              "      <td>0.373424</td>\n",
              "      <td>0.195709</td>\n",
              "      <td>0.774425</td>\n",
              "      <td>3005.09</td>\n",
              "    </tr>\n",
              "    <tr>\n",
              "      <th>3</th>\n",
              "      <td>10</td>\n",
              "      <td>B</td>\n",
              "      <td>B</td>\n",
              "      <td>A</td>\n",
              "      <td>B</td>\n",
              "      <td>A</td>\n",
              "      <td>A</td>\n",
              "      <td>A</td>\n",
              "      <td>A</td>\n",
              "      <td>B</td>\n",
              "      <td>A</td>\n",
              "      <td>A</td>\n",
              "      <td>A</td>\n",
              "      <td>A</td>\n",
              "      <td>A</td>\n",
              "      <td>A</td>\n",
              "      <td>A</td>\n",
              "      <td>A</td>\n",
              "      <td>A</td>\n",
              "      <td>A</td>\n",
              "      <td>A</td>\n",
              "      <td>A</td>\n",
              "      <td>A</td>\n",
              "      <td>B</td>\n",
              "      <td>A</td>\n",
              "      <td>A</td>\n",
              "      <td>A</td>\n",
              "      <td>A</td>\n",
              "      <td>A</td>\n",
              "      <td>A</td>\n",
              "      <td>A</td>\n",
              "      <td>A</td>\n",
              "      <td>A</td>\n",
              "      <td>A</td>\n",
              "      <td>A</td>\n",
              "      <td>A</td>\n",
              "      <td>A</td>\n",
              "      <td>A</td>\n",
              "      <td>A</td>\n",
              "      <td>A</td>\n",
              "      <td>...</td>\n",
              "      <td>A</td>\n",
              "      <td>D</td>\n",
              "      <td>D</td>\n",
              "      <td>C</td>\n",
              "      <td>E</td>\n",
              "      <td>E</td>\n",
              "      <td>D</td>\n",
              "      <td>T</td>\n",
              "      <td>I</td>\n",
              "      <td>D</td>\n",
              "      <td>A</td>\n",
              "      <td>A</td>\n",
              "      <td>E</td>\n",
              "      <td>E</td>\n",
              "      <td>I</td>\n",
              "      <td>K</td>\n",
              "      <td>K</td>\n",
              "      <td>BI</td>\n",
              "      <td>CS</td>\n",
              "      <td>C</td>\n",
              "      <td>N</td>\n",
              "      <td>AE</td>\n",
              "      <td>A</td>\n",
              "      <td>O</td>\n",
              "      <td>DJ</td>\n",
              "      <td>0.321594</td>\n",
              "      <td>0.555782</td>\n",
              "      <td>0.527991</td>\n",
              "      <td>0.373816</td>\n",
              "      <td>0.422268</td>\n",
              "      <td>0.440945</td>\n",
              "      <td>0.391128</td>\n",
              "      <td>0.31796</td>\n",
              "      <td>0.32128</td>\n",
              "      <td>0.44467</td>\n",
              "      <td>0.327915</td>\n",
              "      <td>0.321570</td>\n",
              "      <td>0.605077</td>\n",
              "      <td>0.602642</td>\n",
              "      <td>939.85</td>\n",
              "    </tr>\n",
              "    <tr>\n",
              "      <th>4</th>\n",
              "      <td>11</td>\n",
              "      <td>A</td>\n",
              "      <td>B</td>\n",
              "      <td>A</td>\n",
              "      <td>B</td>\n",
              "      <td>A</td>\n",
              "      <td>A</td>\n",
              "      <td>A</td>\n",
              "      <td>A</td>\n",
              "      <td>B</td>\n",
              "      <td>B</td>\n",
              "      <td>A</td>\n",
              "      <td>B</td>\n",
              "      <td>A</td>\n",
              "      <td>A</td>\n",
              "      <td>A</td>\n",
              "      <td>A</td>\n",
              "      <td>A</td>\n",
              "      <td>A</td>\n",
              "      <td>A</td>\n",
              "      <td>A</td>\n",
              "      <td>A</td>\n",
              "      <td>A</td>\n",
              "      <td>B</td>\n",
              "      <td>A</td>\n",
              "      <td>A</td>\n",
              "      <td>A</td>\n",
              "      <td>A</td>\n",
              "      <td>A</td>\n",
              "      <td>A</td>\n",
              "      <td>A</td>\n",
              "      <td>A</td>\n",
              "      <td>A</td>\n",
              "      <td>A</td>\n",
              "      <td>A</td>\n",
              "      <td>A</td>\n",
              "      <td>A</td>\n",
              "      <td>A</td>\n",
              "      <td>A</td>\n",
              "      <td>A</td>\n",
              "      <td>...</td>\n",
              "      <td>H</td>\n",
              "      <td>D</td>\n",
              "      <td>B</td>\n",
              "      <td>D</td>\n",
              "      <td>E</td>\n",
              "      <td>E</td>\n",
              "      <td>A</td>\n",
              "      <td>P</td>\n",
              "      <td>F</td>\n",
              "      <td>J</td>\n",
              "      <td>A</td>\n",
              "      <td>A</td>\n",
              "      <td>D</td>\n",
              "      <td>E</td>\n",
              "      <td>K</td>\n",
              "      <td>G</td>\n",
              "      <td>B</td>\n",
              "      <td>H</td>\n",
              "      <td>C</td>\n",
              "      <td>C</td>\n",
              "      <td>Y</td>\n",
              "      <td>BM</td>\n",
              "      <td>A</td>\n",
              "      <td>K</td>\n",
              "      <td>CK</td>\n",
              "      <td>0.273204</td>\n",
              "      <td>0.159990</td>\n",
              "      <td>0.527991</td>\n",
              "      <td>0.473202</td>\n",
              "      <td>0.704268</td>\n",
              "      <td>0.178193</td>\n",
              "      <td>0.247408</td>\n",
              "      <td>0.24564</td>\n",
              "      <td>0.22089</td>\n",
              "      <td>0.21230</td>\n",
              "      <td>0.204687</td>\n",
              "      <td>0.202213</td>\n",
              "      <td>0.246011</td>\n",
              "      <td>0.432606</td>\n",
              "      <td>2763.85</td>\n",
              "    </tr>\n",
              "  </tbody>\n",
              "</table>\n",
              "<p>5 rows × 132 columns</p>\n",
              "</div>"
            ],
            "text/plain": [
              "   id cat1 cat2 cat3 cat4  ...    cont11    cont12    cont13    cont14     loss\n",
              "0   1    A    B    A    B  ...  0.569745  0.594646  0.822493  0.714843  2213.18\n",
              "1   2    A    B    A    A  ...  0.338312  0.366307  0.611431  0.304496  1283.60\n",
              "2   5    A    B    A    A  ...  0.381398  0.373424  0.195709  0.774425  3005.09\n",
              "3  10    B    B    A    B  ...  0.327915  0.321570  0.605077  0.602642   939.85\n",
              "4  11    A    B    A    B  ...  0.204687  0.202213  0.246011  0.432606  2763.85\n",
              "\n",
              "[5 rows x 132 columns]"
            ]
          },
          "metadata": {
            "tags": []
          },
          "execution_count": 107
        }
      ]
    },
    {
      "cell_type": "markdown",
      "metadata": {
        "id": "H2-y8KVEIhHN"
      },
      "source": [
        "**Стандартизация данных**\n"
      ]
    },
    {
      "cell_type": "code",
      "metadata": {
        "id": "sYmjT-YmlBBd"
      },
      "source": [
        "labelencoder = LabelEncoder()\n",
        "cat = pd.DataFrame()\n",
        "for i in range(1,117):\n",
        "  cat[f'cat{i}'] = labelencoder.fit_transform(train[f'cat{i}'])\n",
        "  cat_norm = (cat - cat.mean()) / (cat.max() - cat.min())\n",
        "data_cont = train.get([f'cont{i}' for i in range(1, 15)])\n",
        "data_loss = train.get('loss')"
      ],
      "execution_count": null,
      "outputs": []
    },
    {
      "cell_type": "code",
      "metadata": {
        "id": "I1GisxQITJGh",
        "outputId": "c405bee3-6190-40eb-f779-f99ad4acf718",
        "colab": {
          "base_uri": "https://localhost:8080/",
          "height": 244
        }
      },
      "source": [
        "cat_norm.head()"
      ],
      "execution_count": null,
      "outputs": [
        {
          "output_type": "execute_result",
          "data": {
            "text/html": [
              "<div>\n",
              "<style scoped>\n",
              "    .dataframe tbody tr th:only-of-type {\n",
              "        vertical-align: middle;\n",
              "    }\n",
              "\n",
              "    .dataframe tbody tr th {\n",
              "        vertical-align: top;\n",
              "    }\n",
              "\n",
              "    .dataframe thead th {\n",
              "        text-align: right;\n",
              "    }\n",
              "</style>\n",
              "<table border=\"1\" class=\"dataframe\">\n",
              "  <thead>\n",
              "    <tr style=\"text-align: right;\">\n",
              "      <th></th>\n",
              "      <th>cat1</th>\n",
              "      <th>cat2</th>\n",
              "      <th>cat3</th>\n",
              "      <th>cat4</th>\n",
              "      <th>cat5</th>\n",
              "      <th>cat6</th>\n",
              "      <th>cat7</th>\n",
              "      <th>cat8</th>\n",
              "      <th>cat9</th>\n",
              "      <th>cat10</th>\n",
              "      <th>cat11</th>\n",
              "      <th>cat12</th>\n",
              "      <th>cat13</th>\n",
              "      <th>cat14</th>\n",
              "      <th>cat15</th>\n",
              "      <th>cat16</th>\n",
              "      <th>cat17</th>\n",
              "      <th>cat18</th>\n",
              "      <th>cat19</th>\n",
              "      <th>cat20</th>\n",
              "      <th>cat21</th>\n",
              "      <th>cat22</th>\n",
              "      <th>cat23</th>\n",
              "      <th>cat24</th>\n",
              "      <th>cat25</th>\n",
              "      <th>cat26</th>\n",
              "      <th>cat27</th>\n",
              "      <th>cat28</th>\n",
              "      <th>cat29</th>\n",
              "      <th>cat30</th>\n",
              "      <th>cat31</th>\n",
              "      <th>cat32</th>\n",
              "      <th>cat33</th>\n",
              "      <th>cat34</th>\n",
              "      <th>cat35</th>\n",
              "      <th>cat36</th>\n",
              "      <th>cat37</th>\n",
              "      <th>cat38</th>\n",
              "      <th>cat39</th>\n",
              "      <th>cat40</th>\n",
              "      <th>...</th>\n",
              "      <th>cat77</th>\n",
              "      <th>cat78</th>\n",
              "      <th>cat79</th>\n",
              "      <th>cat80</th>\n",
              "      <th>cat81</th>\n",
              "      <th>cat82</th>\n",
              "      <th>cat83</th>\n",
              "      <th>cat84</th>\n",
              "      <th>cat85</th>\n",
              "      <th>cat86</th>\n",
              "      <th>cat87</th>\n",
              "      <th>cat88</th>\n",
              "      <th>cat89</th>\n",
              "      <th>cat90</th>\n",
              "      <th>cat91</th>\n",
              "      <th>cat92</th>\n",
              "      <th>cat93</th>\n",
              "      <th>cat94</th>\n",
              "      <th>cat95</th>\n",
              "      <th>cat96</th>\n",
              "      <th>cat97</th>\n",
              "      <th>cat98</th>\n",
              "      <th>cat99</th>\n",
              "      <th>cat100</th>\n",
              "      <th>cat101</th>\n",
              "      <th>cat102</th>\n",
              "      <th>cat103</th>\n",
              "      <th>cat104</th>\n",
              "      <th>cat105</th>\n",
              "      <th>cat106</th>\n",
              "      <th>cat107</th>\n",
              "      <th>cat108</th>\n",
              "      <th>cat109</th>\n",
              "      <th>cat110</th>\n",
              "      <th>cat111</th>\n",
              "      <th>cat112</th>\n",
              "      <th>cat113</th>\n",
              "      <th>cat114</th>\n",
              "      <th>cat115</th>\n",
              "      <th>cat116</th>\n",
              "    </tr>\n",
              "  </thead>\n",
              "  <tbody>\n",
              "    <tr>\n",
              "      <th>0</th>\n",
              "      <td>-0.248346</td>\n",
              "      <td>0.566706</td>\n",
              "      <td>-0.054827</td>\n",
              "      <td>0.681799</td>\n",
              "      <td>-0.342936</td>\n",
              "      <td>-0.300688</td>\n",
              "      <td>-0.024289</td>\n",
              "      <td>-0.058645</td>\n",
              "      <td>0.600697</td>\n",
              "      <td>-0.149242</td>\n",
              "      <td>0.893096</td>\n",
              "      <td>-0.151303</td>\n",
              "      <td>-0.103373</td>\n",
              "      <td>-0.012091</td>\n",
              "      <td>-0.000181</td>\n",
              "      <td>-0.034383</td>\n",
              "      <td>-0.006951</td>\n",
              "      <td>-0.005241</td>\n",
              "      <td>-0.009601</td>\n",
              "      <td>-0.001083</td>\n",
              "      <td>-0.002193</td>\n",
              "      <td>-0.000228</td>\n",
              "      <td>0.836059</td>\n",
              "      <td>-0.033672</td>\n",
              "      <td>-0.097436</td>\n",
              "      <td>-0.059469</td>\n",
              "      <td>-0.106564</td>\n",
              "      <td>-0.039189</td>\n",
              "      <td>-0.01978</td>\n",
              "      <td>-0.018894</td>\n",
              "      <td>-0.028346</td>\n",
              "      <td>-0.006431</td>\n",
              "      <td>-0.005082</td>\n",
              "      <td>-0.003101</td>\n",
              "      <td>-0.001131</td>\n",
              "      <td>-0.169952</td>\n",
              "      <td>-0.119951</td>\n",
              "      <td>-0.100867</td>\n",
              "      <td>-0.026153</td>\n",
              "      <td>-0.043538</td>\n",
              "      <td>...</td>\n",
              "      <td>0.00225</td>\n",
              "      <td>-0.001018</td>\n",
              "      <td>-0.084818</td>\n",
              "      <td>0.175089</td>\n",
              "      <td>0.105568</td>\n",
              "      <td>-0.037070</td>\n",
              "      <td>0.648088</td>\n",
              "      <td>0.098828</td>\n",
              "      <td>-0.002214</td>\n",
              "      <td>0.394299</td>\n",
              "      <td>-0.055702</td>\n",
              "      <td>-0.068784</td>\n",
              "      <td>-0.003714</td>\n",
              "      <td>-0.009945</td>\n",
              "      <td>-0.167622</td>\n",
              "      <td>-0.279182</td>\n",
              "      <td>0.051272</td>\n",
              "      <td>-0.228796</td>\n",
              "      <td>-0.141752</td>\n",
              "      <td>0.008551</td>\n",
              "      <td>-0.406192</td>\n",
              "      <td>0.1865</td>\n",
              "      <td>0.169033</td>\n",
              "      <td>-0.461127</td>\n",
              "      <td>0.191385</td>\n",
              "      <td>-0.012249</td>\n",
              "      <td>-0.053781</td>\n",
              "      <td>0.151946</td>\n",
              "      <td>-0.040892</td>\n",
              "      <td>-0.04072</td>\n",
              "      <td>0.106171</td>\n",
              "      <td>0.148643</td>\n",
              "      <td>0.170943</td>\n",
              "      <td>-0.351717</td>\n",
              "      <td>0.058973</td>\n",
              "      <td>-0.098466</td>\n",
              "      <td>0.395911</td>\n",
              "      <td>-0.08066</td>\n",
              "      <td>0.099741</td>\n",
              "      <td>0.359131</td>\n",
              "    </tr>\n",
              "    <tr>\n",
              "      <th>1</th>\n",
              "      <td>-0.248346</td>\n",
              "      <td>0.566706</td>\n",
              "      <td>-0.054827</td>\n",
              "      <td>-0.318201</td>\n",
              "      <td>-0.342936</td>\n",
              "      <td>-0.300688</td>\n",
              "      <td>-0.024289</td>\n",
              "      <td>-0.058645</td>\n",
              "      <td>0.600697</td>\n",
              "      <td>0.850758</td>\n",
              "      <td>-0.106904</td>\n",
              "      <td>-0.151303</td>\n",
              "      <td>-0.103373</td>\n",
              "      <td>-0.012091</td>\n",
              "      <td>-0.000181</td>\n",
              "      <td>-0.034383</td>\n",
              "      <td>-0.006951</td>\n",
              "      <td>-0.005241</td>\n",
              "      <td>-0.009601</td>\n",
              "      <td>-0.001083</td>\n",
              "      <td>-0.002193</td>\n",
              "      <td>-0.000228</td>\n",
              "      <td>-0.163941</td>\n",
              "      <td>-0.033672</td>\n",
              "      <td>-0.097436</td>\n",
              "      <td>-0.059469</td>\n",
              "      <td>-0.106564</td>\n",
              "      <td>-0.039189</td>\n",
              "      <td>-0.01978</td>\n",
              "      <td>-0.018894</td>\n",
              "      <td>-0.028346</td>\n",
              "      <td>-0.006431</td>\n",
              "      <td>-0.005082</td>\n",
              "      <td>-0.003101</td>\n",
              "      <td>-0.001131</td>\n",
              "      <td>-0.169952</td>\n",
              "      <td>-0.119951</td>\n",
              "      <td>-0.100867</td>\n",
              "      <td>-0.026153</td>\n",
              "      <td>-0.043538</td>\n",
              "      <td>...</td>\n",
              "      <td>0.00225</td>\n",
              "      <td>-0.001018</td>\n",
              "      <td>-0.084818</td>\n",
              "      <td>0.175089</td>\n",
              "      <td>0.105568</td>\n",
              "      <td>-0.370404</td>\n",
              "      <td>-0.018579</td>\n",
              "      <td>0.098828</td>\n",
              "      <td>-0.002214</td>\n",
              "      <td>0.394299</td>\n",
              "      <td>-0.055702</td>\n",
              "      <td>-0.068784</td>\n",
              "      <td>-0.003714</td>\n",
              "      <td>-0.009945</td>\n",
              "      <td>-0.167622</td>\n",
              "      <td>-0.279182</td>\n",
              "      <td>0.051272</td>\n",
              "      <td>0.104538</td>\n",
              "      <td>-0.141752</td>\n",
              "      <td>0.008551</td>\n",
              "      <td>0.260474</td>\n",
              "      <td>0.4365</td>\n",
              "      <td>0.169033</td>\n",
              "      <td>0.253159</td>\n",
              "      <td>0.135829</td>\n",
              "      <td>-0.012249</td>\n",
              "      <td>-0.053781</td>\n",
              "      <td>-0.098054</td>\n",
              "      <td>-0.040892</td>\n",
              "      <td>0.08428</td>\n",
              "      <td>0.158803</td>\n",
              "      <td>0.548643</td>\n",
              "      <td>0.026365</td>\n",
              "      <td>-0.067102</td>\n",
              "      <td>-0.074360</td>\n",
              "      <td>-0.038466</td>\n",
              "      <td>0.112578</td>\n",
              "      <td>-0.08066</td>\n",
              "      <td>0.099741</td>\n",
              "      <td>-0.207023</td>\n",
              "    </tr>\n",
              "    <tr>\n",
              "      <th>2</th>\n",
              "      <td>-0.248346</td>\n",
              "      <td>0.566706</td>\n",
              "      <td>-0.054827</td>\n",
              "      <td>-0.318201</td>\n",
              "      <td>0.657064</td>\n",
              "      <td>-0.300688</td>\n",
              "      <td>-0.024289</td>\n",
              "      <td>-0.058645</td>\n",
              "      <td>0.600697</td>\n",
              "      <td>0.850758</td>\n",
              "      <td>0.893096</td>\n",
              "      <td>0.848697</td>\n",
              "      <td>0.896627</td>\n",
              "      <td>-0.012091</td>\n",
              "      <td>-0.000181</td>\n",
              "      <td>-0.034383</td>\n",
              "      <td>-0.006951</td>\n",
              "      <td>-0.005241</td>\n",
              "      <td>-0.009601</td>\n",
              "      <td>-0.001083</td>\n",
              "      <td>-0.002193</td>\n",
              "      <td>-0.000228</td>\n",
              "      <td>-0.163941</td>\n",
              "      <td>-0.033672</td>\n",
              "      <td>-0.097436</td>\n",
              "      <td>-0.059469</td>\n",
              "      <td>-0.106564</td>\n",
              "      <td>-0.039189</td>\n",
              "      <td>-0.01978</td>\n",
              "      <td>-0.018894</td>\n",
              "      <td>-0.028346</td>\n",
              "      <td>-0.006431</td>\n",
              "      <td>-0.005082</td>\n",
              "      <td>-0.003101</td>\n",
              "      <td>-0.001131</td>\n",
              "      <td>0.830048</td>\n",
              "      <td>-0.119951</td>\n",
              "      <td>-0.100867</td>\n",
              "      <td>-0.026153</td>\n",
              "      <td>-0.043538</td>\n",
              "      <td>...</td>\n",
              "      <td>0.00225</td>\n",
              "      <td>-0.001018</td>\n",
              "      <td>-0.084818</td>\n",
              "      <td>-0.491578</td>\n",
              "      <td>0.105568</td>\n",
              "      <td>-0.037070</td>\n",
              "      <td>0.648088</td>\n",
              "      <td>0.098828</td>\n",
              "      <td>-0.002214</td>\n",
              "      <td>-0.272367</td>\n",
              "      <td>-0.055702</td>\n",
              "      <td>-0.068784</td>\n",
              "      <td>-0.003714</td>\n",
              "      <td>-0.009945</td>\n",
              "      <td>-0.167622</td>\n",
              "      <td>-0.279182</td>\n",
              "      <td>0.051272</td>\n",
              "      <td>0.104538</td>\n",
              "      <td>-0.141752</td>\n",
              "      <td>0.008551</td>\n",
              "      <td>0.260474</td>\n",
              "      <td>-0.3135</td>\n",
              "      <td>-0.764301</td>\n",
              "      <td>0.253159</td>\n",
              "      <td>0.635829</td>\n",
              "      <td>-0.012249</td>\n",
              "      <td>0.029552</td>\n",
              "      <td>-0.098054</td>\n",
              "      <td>0.011739</td>\n",
              "      <td>0.02178</td>\n",
              "      <td>-0.104355</td>\n",
              "      <td>-0.451357</td>\n",
              "      <td>-0.347129</td>\n",
              "      <td>0.086744</td>\n",
              "      <td>-0.074360</td>\n",
              "      <td>0.081534</td>\n",
              "      <td>-0.437422</td>\n",
              "      <td>-0.08066</td>\n",
              "      <td>-0.172986</td>\n",
              "      <td>0.002208</td>\n",
              "    </tr>\n",
              "    <tr>\n",
              "      <th>3</th>\n",
              "      <td>0.751654</td>\n",
              "      <td>0.566706</td>\n",
              "      <td>-0.054827</td>\n",
              "      <td>0.681799</td>\n",
              "      <td>-0.342936</td>\n",
              "      <td>-0.300688</td>\n",
              "      <td>-0.024289</td>\n",
              "      <td>-0.058645</td>\n",
              "      <td>0.600697</td>\n",
              "      <td>-0.149242</td>\n",
              "      <td>-0.106904</td>\n",
              "      <td>-0.151303</td>\n",
              "      <td>-0.103373</td>\n",
              "      <td>-0.012091</td>\n",
              "      <td>-0.000181</td>\n",
              "      <td>-0.034383</td>\n",
              "      <td>-0.006951</td>\n",
              "      <td>-0.005241</td>\n",
              "      <td>-0.009601</td>\n",
              "      <td>-0.001083</td>\n",
              "      <td>-0.002193</td>\n",
              "      <td>-0.000228</td>\n",
              "      <td>0.836059</td>\n",
              "      <td>-0.033672</td>\n",
              "      <td>-0.097436</td>\n",
              "      <td>-0.059469</td>\n",
              "      <td>-0.106564</td>\n",
              "      <td>-0.039189</td>\n",
              "      <td>-0.01978</td>\n",
              "      <td>-0.018894</td>\n",
              "      <td>-0.028346</td>\n",
              "      <td>-0.006431</td>\n",
              "      <td>-0.005082</td>\n",
              "      <td>-0.003101</td>\n",
              "      <td>-0.001131</td>\n",
              "      <td>-0.169952</td>\n",
              "      <td>-0.119951</td>\n",
              "      <td>-0.100867</td>\n",
              "      <td>-0.026153</td>\n",
              "      <td>-0.043538</td>\n",
              "      <td>...</td>\n",
              "      <td>0.00225</td>\n",
              "      <td>-0.001018</td>\n",
              "      <td>-0.084818</td>\n",
              "      <td>0.175089</td>\n",
              "      <td>0.105568</td>\n",
              "      <td>0.629596</td>\n",
              "      <td>-0.018579</td>\n",
              "      <td>0.098828</td>\n",
              "      <td>-0.002214</td>\n",
              "      <td>0.394299</td>\n",
              "      <td>-0.055702</td>\n",
              "      <td>-0.068784</td>\n",
              "      <td>-0.003714</td>\n",
              "      <td>-0.009945</td>\n",
              "      <td>-0.167622</td>\n",
              "      <td>-0.279182</td>\n",
              "      <td>0.051272</td>\n",
              "      <td>0.104538</td>\n",
              "      <td>-0.141752</td>\n",
              "      <td>0.008551</td>\n",
              "      <td>0.260474</td>\n",
              "      <td>0.4365</td>\n",
              "      <td>0.169033</td>\n",
              "      <td>0.038873</td>\n",
              "      <td>0.024718</td>\n",
              "      <td>-0.012249</td>\n",
              "      <td>-0.053781</td>\n",
              "      <td>-0.098054</td>\n",
              "      <td>-0.040892</td>\n",
              "      <td>0.08428</td>\n",
              "      <td>0.158803</td>\n",
              "      <td>0.548643</td>\n",
              "      <td>0.026365</td>\n",
              "      <td>-0.051717</td>\n",
              "      <td>0.058973</td>\n",
              "      <td>0.301534</td>\n",
              "      <td>-0.454089</td>\n",
              "      <td>-0.08066</td>\n",
              "      <td>0.099741</td>\n",
              "      <td>-0.225484</td>\n",
              "    </tr>\n",
              "    <tr>\n",
              "      <th>4</th>\n",
              "      <td>-0.248346</td>\n",
              "      <td>0.566706</td>\n",
              "      <td>-0.054827</td>\n",
              "      <td>0.681799</td>\n",
              "      <td>-0.342936</td>\n",
              "      <td>-0.300688</td>\n",
              "      <td>-0.024289</td>\n",
              "      <td>-0.058645</td>\n",
              "      <td>0.600697</td>\n",
              "      <td>0.850758</td>\n",
              "      <td>-0.106904</td>\n",
              "      <td>0.848697</td>\n",
              "      <td>-0.103373</td>\n",
              "      <td>-0.012091</td>\n",
              "      <td>-0.000181</td>\n",
              "      <td>-0.034383</td>\n",
              "      <td>-0.006951</td>\n",
              "      <td>-0.005241</td>\n",
              "      <td>-0.009601</td>\n",
              "      <td>-0.001083</td>\n",
              "      <td>-0.002193</td>\n",
              "      <td>-0.000228</td>\n",
              "      <td>0.836059</td>\n",
              "      <td>-0.033672</td>\n",
              "      <td>-0.097436</td>\n",
              "      <td>-0.059469</td>\n",
              "      <td>-0.106564</td>\n",
              "      <td>-0.039189</td>\n",
              "      <td>-0.01978</td>\n",
              "      <td>-0.018894</td>\n",
              "      <td>-0.028346</td>\n",
              "      <td>-0.006431</td>\n",
              "      <td>-0.005082</td>\n",
              "      <td>-0.003101</td>\n",
              "      <td>-0.001131</td>\n",
              "      <td>-0.169952</td>\n",
              "      <td>-0.119951</td>\n",
              "      <td>-0.100867</td>\n",
              "      <td>-0.026153</td>\n",
              "      <td>-0.043538</td>\n",
              "      <td>...</td>\n",
              "      <td>0.00225</td>\n",
              "      <td>-0.001018</td>\n",
              "      <td>0.581849</td>\n",
              "      <td>-0.491578</td>\n",
              "      <td>0.105568</td>\n",
              "      <td>-0.037070</td>\n",
              "      <td>-0.018579</td>\n",
              "      <td>0.098828</td>\n",
              "      <td>-0.002214</td>\n",
              "      <td>-0.272367</td>\n",
              "      <td>0.277631</td>\n",
              "      <td>-0.068784</td>\n",
              "      <td>-0.003714</td>\n",
              "      <td>-0.009945</td>\n",
              "      <td>-0.024765</td>\n",
              "      <td>0.554151</td>\n",
              "      <td>0.051272</td>\n",
              "      <td>-0.228796</td>\n",
              "      <td>0.108248</td>\n",
              "      <td>0.008551</td>\n",
              "      <td>0.260474</td>\n",
              "      <td>-0.3135</td>\n",
              "      <td>-0.030967</td>\n",
              "      <td>-0.175413</td>\n",
              "      <td>0.358052</td>\n",
              "      <td>-0.012249</td>\n",
              "      <td>-0.053781</td>\n",
              "      <td>-0.160554</td>\n",
              "      <td>-0.040892</td>\n",
              "      <td>0.20928</td>\n",
              "      <td>-0.051724</td>\n",
              "      <td>-0.351357</td>\n",
              "      <td>0.423956</td>\n",
              "      <td>-0.182486</td>\n",
              "      <td>0.058973</td>\n",
              "      <td>0.521534</td>\n",
              "      <td>0.112578</td>\n",
              "      <td>-0.08066</td>\n",
              "      <td>-0.082077</td>\n",
              "      <td>-0.299330</td>\n",
              "    </tr>\n",
              "  </tbody>\n",
              "</table>\n",
              "<p>5 rows × 116 columns</p>\n",
              "</div>"
            ],
            "text/plain": [
              "       cat1      cat2      cat3  ...   cat114    cat115    cat116\n",
              "0 -0.248346  0.566706 -0.054827  ... -0.08066  0.099741  0.359131\n",
              "1 -0.248346  0.566706 -0.054827  ... -0.08066  0.099741 -0.207023\n",
              "2 -0.248346  0.566706 -0.054827  ... -0.08066 -0.172986  0.002208\n",
              "3  0.751654  0.566706 -0.054827  ... -0.08066  0.099741 -0.225484\n",
              "4 -0.248346  0.566706 -0.054827  ... -0.08066 -0.082077 -0.299330\n",
              "\n",
              "[5 rows x 116 columns]"
            ]
          },
          "metadata": {
            "tags": []
          },
          "execution_count": 109
        }
      ]
    },
    {
      "cell_type": "markdown",
      "metadata": {
        "id": "ccAURuAFb4CS"
      },
      "source": [
        "**Соединяем данные обратно**"
      ]
    },
    {
      "cell_type": "code",
      "metadata": {
        "id": "jIa1v7Kxb9ds"
      },
      "source": [
        "data = pd.concat([cat_norm, data_cont, data_loss], axis=1)"
      ],
      "execution_count": null,
      "outputs": []
    },
    {
      "cell_type": "code",
      "metadata": {
        "id": "GgjyjQw3cDjY",
        "outputId": "fb903d18-1809-4eb4-f4b9-bb8ad393eb48",
        "colab": {
          "base_uri": "https://localhost:8080/",
          "height": 244
        }
      },
      "source": [
        "data.head()"
      ],
      "execution_count": null,
      "outputs": [
        {
          "output_type": "execute_result",
          "data": {
            "text/html": [
              "<div>\n",
              "<style scoped>\n",
              "    .dataframe tbody tr th:only-of-type {\n",
              "        vertical-align: middle;\n",
              "    }\n",
              "\n",
              "    .dataframe tbody tr th {\n",
              "        vertical-align: top;\n",
              "    }\n",
              "\n",
              "    .dataframe thead th {\n",
              "        text-align: right;\n",
              "    }\n",
              "</style>\n",
              "<table border=\"1\" class=\"dataframe\">\n",
              "  <thead>\n",
              "    <tr style=\"text-align: right;\">\n",
              "      <th></th>\n",
              "      <th>cat1</th>\n",
              "      <th>cat2</th>\n",
              "      <th>cat3</th>\n",
              "      <th>cat4</th>\n",
              "      <th>cat5</th>\n",
              "      <th>cat6</th>\n",
              "      <th>cat7</th>\n",
              "      <th>cat8</th>\n",
              "      <th>cat9</th>\n",
              "      <th>cat10</th>\n",
              "      <th>cat11</th>\n",
              "      <th>cat12</th>\n",
              "      <th>cat13</th>\n",
              "      <th>cat14</th>\n",
              "      <th>cat15</th>\n",
              "      <th>cat16</th>\n",
              "      <th>cat17</th>\n",
              "      <th>cat18</th>\n",
              "      <th>cat19</th>\n",
              "      <th>cat20</th>\n",
              "      <th>cat21</th>\n",
              "      <th>cat22</th>\n",
              "      <th>cat23</th>\n",
              "      <th>cat24</th>\n",
              "      <th>cat25</th>\n",
              "      <th>cat26</th>\n",
              "      <th>cat27</th>\n",
              "      <th>cat28</th>\n",
              "      <th>cat29</th>\n",
              "      <th>cat30</th>\n",
              "      <th>cat31</th>\n",
              "      <th>cat32</th>\n",
              "      <th>cat33</th>\n",
              "      <th>cat34</th>\n",
              "      <th>cat35</th>\n",
              "      <th>cat36</th>\n",
              "      <th>cat37</th>\n",
              "      <th>cat38</th>\n",
              "      <th>cat39</th>\n",
              "      <th>cat40</th>\n",
              "      <th>...</th>\n",
              "      <th>cat92</th>\n",
              "      <th>cat93</th>\n",
              "      <th>cat94</th>\n",
              "      <th>cat95</th>\n",
              "      <th>cat96</th>\n",
              "      <th>cat97</th>\n",
              "      <th>cat98</th>\n",
              "      <th>cat99</th>\n",
              "      <th>cat100</th>\n",
              "      <th>cat101</th>\n",
              "      <th>cat102</th>\n",
              "      <th>cat103</th>\n",
              "      <th>cat104</th>\n",
              "      <th>cat105</th>\n",
              "      <th>cat106</th>\n",
              "      <th>cat107</th>\n",
              "      <th>cat108</th>\n",
              "      <th>cat109</th>\n",
              "      <th>cat110</th>\n",
              "      <th>cat111</th>\n",
              "      <th>cat112</th>\n",
              "      <th>cat113</th>\n",
              "      <th>cat114</th>\n",
              "      <th>cat115</th>\n",
              "      <th>cat116</th>\n",
              "      <th>cont1</th>\n",
              "      <th>cont2</th>\n",
              "      <th>cont3</th>\n",
              "      <th>cont4</th>\n",
              "      <th>cont5</th>\n",
              "      <th>cont6</th>\n",
              "      <th>cont7</th>\n",
              "      <th>cont8</th>\n",
              "      <th>cont9</th>\n",
              "      <th>cont10</th>\n",
              "      <th>cont11</th>\n",
              "      <th>cont12</th>\n",
              "      <th>cont13</th>\n",
              "      <th>cont14</th>\n",
              "      <th>loss</th>\n",
              "    </tr>\n",
              "  </thead>\n",
              "  <tbody>\n",
              "    <tr>\n",
              "      <th>0</th>\n",
              "      <td>-0.248346</td>\n",
              "      <td>0.566706</td>\n",
              "      <td>-0.054827</td>\n",
              "      <td>0.681799</td>\n",
              "      <td>-0.342936</td>\n",
              "      <td>-0.300688</td>\n",
              "      <td>-0.024289</td>\n",
              "      <td>-0.058645</td>\n",
              "      <td>0.600697</td>\n",
              "      <td>-0.149242</td>\n",
              "      <td>0.893096</td>\n",
              "      <td>-0.151303</td>\n",
              "      <td>-0.103373</td>\n",
              "      <td>-0.012091</td>\n",
              "      <td>-0.000181</td>\n",
              "      <td>-0.034383</td>\n",
              "      <td>-0.006951</td>\n",
              "      <td>-0.005241</td>\n",
              "      <td>-0.009601</td>\n",
              "      <td>-0.001083</td>\n",
              "      <td>-0.002193</td>\n",
              "      <td>-0.000228</td>\n",
              "      <td>0.836059</td>\n",
              "      <td>-0.033672</td>\n",
              "      <td>-0.097436</td>\n",
              "      <td>-0.059469</td>\n",
              "      <td>-0.106564</td>\n",
              "      <td>-0.039189</td>\n",
              "      <td>-0.01978</td>\n",
              "      <td>-0.018894</td>\n",
              "      <td>-0.028346</td>\n",
              "      <td>-0.006431</td>\n",
              "      <td>-0.005082</td>\n",
              "      <td>-0.003101</td>\n",
              "      <td>-0.001131</td>\n",
              "      <td>-0.169952</td>\n",
              "      <td>-0.119951</td>\n",
              "      <td>-0.100867</td>\n",
              "      <td>-0.026153</td>\n",
              "      <td>-0.043538</td>\n",
              "      <td>...</td>\n",
              "      <td>-0.279182</td>\n",
              "      <td>0.051272</td>\n",
              "      <td>-0.228796</td>\n",
              "      <td>-0.141752</td>\n",
              "      <td>0.008551</td>\n",
              "      <td>-0.406192</td>\n",
              "      <td>0.1865</td>\n",
              "      <td>0.169033</td>\n",
              "      <td>-0.461127</td>\n",
              "      <td>0.191385</td>\n",
              "      <td>-0.012249</td>\n",
              "      <td>-0.053781</td>\n",
              "      <td>0.151946</td>\n",
              "      <td>-0.040892</td>\n",
              "      <td>-0.04072</td>\n",
              "      <td>0.106171</td>\n",
              "      <td>0.148643</td>\n",
              "      <td>0.170943</td>\n",
              "      <td>-0.351717</td>\n",
              "      <td>0.058973</td>\n",
              "      <td>-0.098466</td>\n",
              "      <td>0.395911</td>\n",
              "      <td>-0.08066</td>\n",
              "      <td>0.099741</td>\n",
              "      <td>0.359131</td>\n",
              "      <td>0.726300</td>\n",
              "      <td>0.245921</td>\n",
              "      <td>0.187583</td>\n",
              "      <td>0.789639</td>\n",
              "      <td>0.310061</td>\n",
              "      <td>0.718367</td>\n",
              "      <td>0.335060</td>\n",
              "      <td>0.30260</td>\n",
              "      <td>0.67135</td>\n",
              "      <td>0.83510</td>\n",
              "      <td>0.569745</td>\n",
              "      <td>0.594646</td>\n",
              "      <td>0.822493</td>\n",
              "      <td>0.714843</td>\n",
              "      <td>2213.18</td>\n",
              "    </tr>\n",
              "    <tr>\n",
              "      <th>1</th>\n",
              "      <td>-0.248346</td>\n",
              "      <td>0.566706</td>\n",
              "      <td>-0.054827</td>\n",
              "      <td>-0.318201</td>\n",
              "      <td>-0.342936</td>\n",
              "      <td>-0.300688</td>\n",
              "      <td>-0.024289</td>\n",
              "      <td>-0.058645</td>\n",
              "      <td>0.600697</td>\n",
              "      <td>0.850758</td>\n",
              "      <td>-0.106904</td>\n",
              "      <td>-0.151303</td>\n",
              "      <td>-0.103373</td>\n",
              "      <td>-0.012091</td>\n",
              "      <td>-0.000181</td>\n",
              "      <td>-0.034383</td>\n",
              "      <td>-0.006951</td>\n",
              "      <td>-0.005241</td>\n",
              "      <td>-0.009601</td>\n",
              "      <td>-0.001083</td>\n",
              "      <td>-0.002193</td>\n",
              "      <td>-0.000228</td>\n",
              "      <td>-0.163941</td>\n",
              "      <td>-0.033672</td>\n",
              "      <td>-0.097436</td>\n",
              "      <td>-0.059469</td>\n",
              "      <td>-0.106564</td>\n",
              "      <td>-0.039189</td>\n",
              "      <td>-0.01978</td>\n",
              "      <td>-0.018894</td>\n",
              "      <td>-0.028346</td>\n",
              "      <td>-0.006431</td>\n",
              "      <td>-0.005082</td>\n",
              "      <td>-0.003101</td>\n",
              "      <td>-0.001131</td>\n",
              "      <td>-0.169952</td>\n",
              "      <td>-0.119951</td>\n",
              "      <td>-0.100867</td>\n",
              "      <td>-0.026153</td>\n",
              "      <td>-0.043538</td>\n",
              "      <td>...</td>\n",
              "      <td>-0.279182</td>\n",
              "      <td>0.051272</td>\n",
              "      <td>0.104538</td>\n",
              "      <td>-0.141752</td>\n",
              "      <td>0.008551</td>\n",
              "      <td>0.260474</td>\n",
              "      <td>0.4365</td>\n",
              "      <td>0.169033</td>\n",
              "      <td>0.253159</td>\n",
              "      <td>0.135829</td>\n",
              "      <td>-0.012249</td>\n",
              "      <td>-0.053781</td>\n",
              "      <td>-0.098054</td>\n",
              "      <td>-0.040892</td>\n",
              "      <td>0.08428</td>\n",
              "      <td>0.158803</td>\n",
              "      <td>0.548643</td>\n",
              "      <td>0.026365</td>\n",
              "      <td>-0.067102</td>\n",
              "      <td>-0.074360</td>\n",
              "      <td>-0.038466</td>\n",
              "      <td>0.112578</td>\n",
              "      <td>-0.08066</td>\n",
              "      <td>0.099741</td>\n",
              "      <td>-0.207023</td>\n",
              "      <td>0.330514</td>\n",
              "      <td>0.737068</td>\n",
              "      <td>0.592681</td>\n",
              "      <td>0.614134</td>\n",
              "      <td>0.885834</td>\n",
              "      <td>0.438917</td>\n",
              "      <td>0.436585</td>\n",
              "      <td>0.60087</td>\n",
              "      <td>0.35127</td>\n",
              "      <td>0.43919</td>\n",
              "      <td>0.338312</td>\n",
              "      <td>0.366307</td>\n",
              "      <td>0.611431</td>\n",
              "      <td>0.304496</td>\n",
              "      <td>1283.60</td>\n",
              "    </tr>\n",
              "    <tr>\n",
              "      <th>2</th>\n",
              "      <td>-0.248346</td>\n",
              "      <td>0.566706</td>\n",
              "      <td>-0.054827</td>\n",
              "      <td>-0.318201</td>\n",
              "      <td>0.657064</td>\n",
              "      <td>-0.300688</td>\n",
              "      <td>-0.024289</td>\n",
              "      <td>-0.058645</td>\n",
              "      <td>0.600697</td>\n",
              "      <td>0.850758</td>\n",
              "      <td>0.893096</td>\n",
              "      <td>0.848697</td>\n",
              "      <td>0.896627</td>\n",
              "      <td>-0.012091</td>\n",
              "      <td>-0.000181</td>\n",
              "      <td>-0.034383</td>\n",
              "      <td>-0.006951</td>\n",
              "      <td>-0.005241</td>\n",
              "      <td>-0.009601</td>\n",
              "      <td>-0.001083</td>\n",
              "      <td>-0.002193</td>\n",
              "      <td>-0.000228</td>\n",
              "      <td>-0.163941</td>\n",
              "      <td>-0.033672</td>\n",
              "      <td>-0.097436</td>\n",
              "      <td>-0.059469</td>\n",
              "      <td>-0.106564</td>\n",
              "      <td>-0.039189</td>\n",
              "      <td>-0.01978</td>\n",
              "      <td>-0.018894</td>\n",
              "      <td>-0.028346</td>\n",
              "      <td>-0.006431</td>\n",
              "      <td>-0.005082</td>\n",
              "      <td>-0.003101</td>\n",
              "      <td>-0.001131</td>\n",
              "      <td>0.830048</td>\n",
              "      <td>-0.119951</td>\n",
              "      <td>-0.100867</td>\n",
              "      <td>-0.026153</td>\n",
              "      <td>-0.043538</td>\n",
              "      <td>...</td>\n",
              "      <td>-0.279182</td>\n",
              "      <td>0.051272</td>\n",
              "      <td>0.104538</td>\n",
              "      <td>-0.141752</td>\n",
              "      <td>0.008551</td>\n",
              "      <td>0.260474</td>\n",
              "      <td>-0.3135</td>\n",
              "      <td>-0.764301</td>\n",
              "      <td>0.253159</td>\n",
              "      <td>0.635829</td>\n",
              "      <td>-0.012249</td>\n",
              "      <td>0.029552</td>\n",
              "      <td>-0.098054</td>\n",
              "      <td>0.011739</td>\n",
              "      <td>0.02178</td>\n",
              "      <td>-0.104355</td>\n",
              "      <td>-0.451357</td>\n",
              "      <td>-0.347129</td>\n",
              "      <td>0.086744</td>\n",
              "      <td>-0.074360</td>\n",
              "      <td>0.081534</td>\n",
              "      <td>-0.437422</td>\n",
              "      <td>-0.08066</td>\n",
              "      <td>-0.172986</td>\n",
              "      <td>0.002208</td>\n",
              "      <td>0.261841</td>\n",
              "      <td>0.358319</td>\n",
              "      <td>0.484196</td>\n",
              "      <td>0.236924</td>\n",
              "      <td>0.397069</td>\n",
              "      <td>0.289648</td>\n",
              "      <td>0.315545</td>\n",
              "      <td>0.27320</td>\n",
              "      <td>0.26076</td>\n",
              "      <td>0.32446</td>\n",
              "      <td>0.381398</td>\n",
              "      <td>0.373424</td>\n",
              "      <td>0.195709</td>\n",
              "      <td>0.774425</td>\n",
              "      <td>3005.09</td>\n",
              "    </tr>\n",
              "    <tr>\n",
              "      <th>3</th>\n",
              "      <td>0.751654</td>\n",
              "      <td>0.566706</td>\n",
              "      <td>-0.054827</td>\n",
              "      <td>0.681799</td>\n",
              "      <td>-0.342936</td>\n",
              "      <td>-0.300688</td>\n",
              "      <td>-0.024289</td>\n",
              "      <td>-0.058645</td>\n",
              "      <td>0.600697</td>\n",
              "      <td>-0.149242</td>\n",
              "      <td>-0.106904</td>\n",
              "      <td>-0.151303</td>\n",
              "      <td>-0.103373</td>\n",
              "      <td>-0.012091</td>\n",
              "      <td>-0.000181</td>\n",
              "      <td>-0.034383</td>\n",
              "      <td>-0.006951</td>\n",
              "      <td>-0.005241</td>\n",
              "      <td>-0.009601</td>\n",
              "      <td>-0.001083</td>\n",
              "      <td>-0.002193</td>\n",
              "      <td>-0.000228</td>\n",
              "      <td>0.836059</td>\n",
              "      <td>-0.033672</td>\n",
              "      <td>-0.097436</td>\n",
              "      <td>-0.059469</td>\n",
              "      <td>-0.106564</td>\n",
              "      <td>-0.039189</td>\n",
              "      <td>-0.01978</td>\n",
              "      <td>-0.018894</td>\n",
              "      <td>-0.028346</td>\n",
              "      <td>-0.006431</td>\n",
              "      <td>-0.005082</td>\n",
              "      <td>-0.003101</td>\n",
              "      <td>-0.001131</td>\n",
              "      <td>-0.169952</td>\n",
              "      <td>-0.119951</td>\n",
              "      <td>-0.100867</td>\n",
              "      <td>-0.026153</td>\n",
              "      <td>-0.043538</td>\n",
              "      <td>...</td>\n",
              "      <td>-0.279182</td>\n",
              "      <td>0.051272</td>\n",
              "      <td>0.104538</td>\n",
              "      <td>-0.141752</td>\n",
              "      <td>0.008551</td>\n",
              "      <td>0.260474</td>\n",
              "      <td>0.4365</td>\n",
              "      <td>0.169033</td>\n",
              "      <td>0.038873</td>\n",
              "      <td>0.024718</td>\n",
              "      <td>-0.012249</td>\n",
              "      <td>-0.053781</td>\n",
              "      <td>-0.098054</td>\n",
              "      <td>-0.040892</td>\n",
              "      <td>0.08428</td>\n",
              "      <td>0.158803</td>\n",
              "      <td>0.548643</td>\n",
              "      <td>0.026365</td>\n",
              "      <td>-0.051717</td>\n",
              "      <td>0.058973</td>\n",
              "      <td>0.301534</td>\n",
              "      <td>-0.454089</td>\n",
              "      <td>-0.08066</td>\n",
              "      <td>0.099741</td>\n",
              "      <td>-0.225484</td>\n",
              "      <td>0.321594</td>\n",
              "      <td>0.555782</td>\n",
              "      <td>0.527991</td>\n",
              "      <td>0.373816</td>\n",
              "      <td>0.422268</td>\n",
              "      <td>0.440945</td>\n",
              "      <td>0.391128</td>\n",
              "      <td>0.31796</td>\n",
              "      <td>0.32128</td>\n",
              "      <td>0.44467</td>\n",
              "      <td>0.327915</td>\n",
              "      <td>0.321570</td>\n",
              "      <td>0.605077</td>\n",
              "      <td>0.602642</td>\n",
              "      <td>939.85</td>\n",
              "    </tr>\n",
              "    <tr>\n",
              "      <th>4</th>\n",
              "      <td>-0.248346</td>\n",
              "      <td>0.566706</td>\n",
              "      <td>-0.054827</td>\n",
              "      <td>0.681799</td>\n",
              "      <td>-0.342936</td>\n",
              "      <td>-0.300688</td>\n",
              "      <td>-0.024289</td>\n",
              "      <td>-0.058645</td>\n",
              "      <td>0.600697</td>\n",
              "      <td>0.850758</td>\n",
              "      <td>-0.106904</td>\n",
              "      <td>0.848697</td>\n",
              "      <td>-0.103373</td>\n",
              "      <td>-0.012091</td>\n",
              "      <td>-0.000181</td>\n",
              "      <td>-0.034383</td>\n",
              "      <td>-0.006951</td>\n",
              "      <td>-0.005241</td>\n",
              "      <td>-0.009601</td>\n",
              "      <td>-0.001083</td>\n",
              "      <td>-0.002193</td>\n",
              "      <td>-0.000228</td>\n",
              "      <td>0.836059</td>\n",
              "      <td>-0.033672</td>\n",
              "      <td>-0.097436</td>\n",
              "      <td>-0.059469</td>\n",
              "      <td>-0.106564</td>\n",
              "      <td>-0.039189</td>\n",
              "      <td>-0.01978</td>\n",
              "      <td>-0.018894</td>\n",
              "      <td>-0.028346</td>\n",
              "      <td>-0.006431</td>\n",
              "      <td>-0.005082</td>\n",
              "      <td>-0.003101</td>\n",
              "      <td>-0.001131</td>\n",
              "      <td>-0.169952</td>\n",
              "      <td>-0.119951</td>\n",
              "      <td>-0.100867</td>\n",
              "      <td>-0.026153</td>\n",
              "      <td>-0.043538</td>\n",
              "      <td>...</td>\n",
              "      <td>0.554151</td>\n",
              "      <td>0.051272</td>\n",
              "      <td>-0.228796</td>\n",
              "      <td>0.108248</td>\n",
              "      <td>0.008551</td>\n",
              "      <td>0.260474</td>\n",
              "      <td>-0.3135</td>\n",
              "      <td>-0.030967</td>\n",
              "      <td>-0.175413</td>\n",
              "      <td>0.358052</td>\n",
              "      <td>-0.012249</td>\n",
              "      <td>-0.053781</td>\n",
              "      <td>-0.160554</td>\n",
              "      <td>-0.040892</td>\n",
              "      <td>0.20928</td>\n",
              "      <td>-0.051724</td>\n",
              "      <td>-0.351357</td>\n",
              "      <td>0.423956</td>\n",
              "      <td>-0.182486</td>\n",
              "      <td>0.058973</td>\n",
              "      <td>0.521534</td>\n",
              "      <td>0.112578</td>\n",
              "      <td>-0.08066</td>\n",
              "      <td>-0.082077</td>\n",
              "      <td>-0.299330</td>\n",
              "      <td>0.273204</td>\n",
              "      <td>0.159990</td>\n",
              "      <td>0.527991</td>\n",
              "      <td>0.473202</td>\n",
              "      <td>0.704268</td>\n",
              "      <td>0.178193</td>\n",
              "      <td>0.247408</td>\n",
              "      <td>0.24564</td>\n",
              "      <td>0.22089</td>\n",
              "      <td>0.21230</td>\n",
              "      <td>0.204687</td>\n",
              "      <td>0.202213</td>\n",
              "      <td>0.246011</td>\n",
              "      <td>0.432606</td>\n",
              "      <td>2763.85</td>\n",
              "    </tr>\n",
              "  </tbody>\n",
              "</table>\n",
              "<p>5 rows × 131 columns</p>\n",
              "</div>"
            ],
            "text/plain": [
              "       cat1      cat2      cat3  ...    cont13    cont14     loss\n",
              "0 -0.248346  0.566706 -0.054827  ...  0.822493  0.714843  2213.18\n",
              "1 -0.248346  0.566706 -0.054827  ...  0.611431  0.304496  1283.60\n",
              "2 -0.248346  0.566706 -0.054827  ...  0.195709  0.774425  3005.09\n",
              "3  0.751654  0.566706 -0.054827  ...  0.605077  0.602642   939.85\n",
              "4 -0.248346  0.566706 -0.054827  ...  0.246011  0.432606  2763.85\n",
              "\n",
              "[5 rows x 131 columns]"
            ]
          },
          "metadata": {
            "tags": []
          },
          "execution_count": 111
        }
      ]
    },
    {
      "cell_type": "markdown",
      "metadata": {
        "id": "Uus2La1a6Gnw"
      },
      "source": [
        "**Разделение данных на test и train**"
      ]
    },
    {
      "cell_type": "code",
      "metadata": {
        "id": "3vbws-mzdMnD"
      },
      "source": [
        "split = 0.7\n",
        "random_seed = 200\n",
        "\n",
        "train.drop(['id'], axis=1, inplace=True)\n",
        "y_data = data_loss\n",
        "x_data = data.drop(['loss'], axis=1)\n",
        "\n",
        "x_train = x_data.sample(frac=split, random_state=random_seed)\n",
        "x_test = x_data.drop(x_train.index)\n",
        "\n",
        "y_train = y_data.sample(frac=split, random_state=random_seed)\n",
        "y_test = y_data.drop(y_train.index)"
      ],
      "execution_count": null,
      "outputs": []
    },
    {
      "cell_type": "code",
      "metadata": {
        "id": "pwNrlnxohzrz",
        "outputId": "045c1a89-dd0c-422e-a5e3-0aec8f520859",
        "colab": {
          "base_uri": "https://localhost:8080/",
          "height": 244
        }
      },
      "source": [
        "x_train.head()"
      ],
      "execution_count": null,
      "outputs": [
        {
          "output_type": "execute_result",
          "data": {
            "text/html": [
              "<div>\n",
              "<style scoped>\n",
              "    .dataframe tbody tr th:only-of-type {\n",
              "        vertical-align: middle;\n",
              "    }\n",
              "\n",
              "    .dataframe tbody tr th {\n",
              "        vertical-align: top;\n",
              "    }\n",
              "\n",
              "    .dataframe thead th {\n",
              "        text-align: right;\n",
              "    }\n",
              "</style>\n",
              "<table border=\"1\" class=\"dataframe\">\n",
              "  <thead>\n",
              "    <tr style=\"text-align: right;\">\n",
              "      <th></th>\n",
              "      <th>cat1</th>\n",
              "      <th>cat2</th>\n",
              "      <th>cat3</th>\n",
              "      <th>cat4</th>\n",
              "      <th>cat5</th>\n",
              "      <th>cat6</th>\n",
              "      <th>cat7</th>\n",
              "      <th>cat8</th>\n",
              "      <th>cat9</th>\n",
              "      <th>cat10</th>\n",
              "      <th>cat11</th>\n",
              "      <th>cat12</th>\n",
              "      <th>cat13</th>\n",
              "      <th>cat14</th>\n",
              "      <th>cat15</th>\n",
              "      <th>cat16</th>\n",
              "      <th>cat17</th>\n",
              "      <th>cat18</th>\n",
              "      <th>cat19</th>\n",
              "      <th>cat20</th>\n",
              "      <th>cat21</th>\n",
              "      <th>cat22</th>\n",
              "      <th>cat23</th>\n",
              "      <th>cat24</th>\n",
              "      <th>cat25</th>\n",
              "      <th>cat26</th>\n",
              "      <th>cat27</th>\n",
              "      <th>cat28</th>\n",
              "      <th>cat29</th>\n",
              "      <th>cat30</th>\n",
              "      <th>cat31</th>\n",
              "      <th>cat32</th>\n",
              "      <th>cat33</th>\n",
              "      <th>cat34</th>\n",
              "      <th>cat35</th>\n",
              "      <th>cat36</th>\n",
              "      <th>cat37</th>\n",
              "      <th>cat38</th>\n",
              "      <th>cat39</th>\n",
              "      <th>cat40</th>\n",
              "      <th>...</th>\n",
              "      <th>cat91</th>\n",
              "      <th>cat92</th>\n",
              "      <th>cat93</th>\n",
              "      <th>cat94</th>\n",
              "      <th>cat95</th>\n",
              "      <th>cat96</th>\n",
              "      <th>cat97</th>\n",
              "      <th>cat98</th>\n",
              "      <th>cat99</th>\n",
              "      <th>cat100</th>\n",
              "      <th>cat101</th>\n",
              "      <th>cat102</th>\n",
              "      <th>cat103</th>\n",
              "      <th>cat104</th>\n",
              "      <th>cat105</th>\n",
              "      <th>cat106</th>\n",
              "      <th>cat107</th>\n",
              "      <th>cat108</th>\n",
              "      <th>cat109</th>\n",
              "      <th>cat110</th>\n",
              "      <th>cat111</th>\n",
              "      <th>cat112</th>\n",
              "      <th>cat113</th>\n",
              "      <th>cat114</th>\n",
              "      <th>cat115</th>\n",
              "      <th>cat116</th>\n",
              "      <th>cont1</th>\n",
              "      <th>cont2</th>\n",
              "      <th>cont3</th>\n",
              "      <th>cont4</th>\n",
              "      <th>cont5</th>\n",
              "      <th>cont6</th>\n",
              "      <th>cont7</th>\n",
              "      <th>cont8</th>\n",
              "      <th>cont9</th>\n",
              "      <th>cont10</th>\n",
              "      <th>cont11</th>\n",
              "      <th>cont12</th>\n",
              "      <th>cont13</th>\n",
              "      <th>cont14</th>\n",
              "    </tr>\n",
              "  </thead>\n",
              "  <tbody>\n",
              "    <tr>\n",
              "      <th>35320</th>\n",
              "      <td>-0.248346</td>\n",
              "      <td>0.566706</td>\n",
              "      <td>0.945173</td>\n",
              "      <td>-0.318201</td>\n",
              "      <td>-0.342936</td>\n",
              "      <td>-0.300688</td>\n",
              "      <td>-0.024289</td>\n",
              "      <td>-0.058645</td>\n",
              "      <td>0.600697</td>\n",
              "      <td>0.850758</td>\n",
              "      <td>0.893096</td>\n",
              "      <td>0.848697</td>\n",
              "      <td>0.896627</td>\n",
              "      <td>-0.012091</td>\n",
              "      <td>-0.000181</td>\n",
              "      <td>0.965617</td>\n",
              "      <td>-0.006951</td>\n",
              "      <td>-0.005241</td>\n",
              "      <td>-0.009601</td>\n",
              "      <td>-0.001083</td>\n",
              "      <td>-0.002193</td>\n",
              "      <td>-0.000228</td>\n",
              "      <td>-0.163941</td>\n",
              "      <td>-0.033672</td>\n",
              "      <td>-0.097436</td>\n",
              "      <td>-0.059469</td>\n",
              "      <td>-0.106564</td>\n",
              "      <td>-0.039189</td>\n",
              "      <td>-0.01978</td>\n",
              "      <td>-0.018894</td>\n",
              "      <td>-0.028346</td>\n",
              "      <td>-0.006431</td>\n",
              "      <td>-0.005082</td>\n",
              "      <td>-0.003101</td>\n",
              "      <td>-0.001131</td>\n",
              "      <td>-0.169952</td>\n",
              "      <td>-0.119951</td>\n",
              "      <td>-0.100867</td>\n",
              "      <td>-0.026153</td>\n",
              "      <td>-0.043538</td>\n",
              "      <td>...</td>\n",
              "      <td>-0.167622</td>\n",
              "      <td>-0.279182</td>\n",
              "      <td>0.051272</td>\n",
              "      <td>-0.228796</td>\n",
              "      <td>-0.141752</td>\n",
              "      <td>0.008551</td>\n",
              "      <td>-0.406192</td>\n",
              "      <td>0.1865</td>\n",
              "      <td>0.169033</td>\n",
              "      <td>0.253159</td>\n",
              "      <td>0.691385</td>\n",
              "      <td>-0.012249</td>\n",
              "      <td>-0.053781</td>\n",
              "      <td>0.214446</td>\n",
              "      <td>0.011739</td>\n",
              "      <td>-0.04072</td>\n",
              "      <td>-0.051724</td>\n",
              "      <td>0.148643</td>\n",
              "      <td>0.026365</td>\n",
              "      <td>0.248283</td>\n",
              "      <td>-0.074360</td>\n",
              "      <td>-0.398466</td>\n",
              "      <td>0.295911</td>\n",
              "      <td>-0.08066</td>\n",
              "      <td>0.054287</td>\n",
              "      <td>0.371439</td>\n",
              "      <td>0.893232</td>\n",
              "      <td>0.159990</td>\n",
              "      <td>0.280933</td>\n",
              "      <td>0.713852</td>\n",
              "      <td>0.281143</td>\n",
              "      <td>0.665834</td>\n",
              "      <td>0.377559</td>\n",
              "      <td>0.75964</td>\n",
              "      <td>0.93383</td>\n",
              "      <td>0.78770</td>\n",
              "      <td>0.711942</td>\n",
              "      <td>0.714544</td>\n",
              "      <td>0.751507</td>\n",
              "      <td>0.793129</td>\n",
              "    </tr>\n",
              "    <tr>\n",
              "      <th>11967</th>\n",
              "      <td>0.751654</td>\n",
              "      <td>0.566706</td>\n",
              "      <td>-0.054827</td>\n",
              "      <td>0.681799</td>\n",
              "      <td>-0.342936</td>\n",
              "      <td>-0.300688</td>\n",
              "      <td>-0.024289</td>\n",
              "      <td>-0.058645</td>\n",
              "      <td>0.600697</td>\n",
              "      <td>0.850758</td>\n",
              "      <td>0.893096</td>\n",
              "      <td>0.848697</td>\n",
              "      <td>-0.103373</td>\n",
              "      <td>-0.012091</td>\n",
              "      <td>-0.000181</td>\n",
              "      <td>-0.034383</td>\n",
              "      <td>-0.006951</td>\n",
              "      <td>-0.005241</td>\n",
              "      <td>-0.009601</td>\n",
              "      <td>-0.001083</td>\n",
              "      <td>-0.002193</td>\n",
              "      <td>-0.000228</td>\n",
              "      <td>0.836059</td>\n",
              "      <td>-0.033672</td>\n",
              "      <td>-0.097436</td>\n",
              "      <td>-0.059469</td>\n",
              "      <td>-0.106564</td>\n",
              "      <td>-0.039189</td>\n",
              "      <td>-0.01978</td>\n",
              "      <td>-0.018894</td>\n",
              "      <td>-0.028346</td>\n",
              "      <td>-0.006431</td>\n",
              "      <td>-0.005082</td>\n",
              "      <td>-0.003101</td>\n",
              "      <td>-0.001131</td>\n",
              "      <td>-0.169952</td>\n",
              "      <td>-0.119951</td>\n",
              "      <td>-0.100867</td>\n",
              "      <td>-0.026153</td>\n",
              "      <td>-0.043538</td>\n",
              "      <td>...</td>\n",
              "      <td>0.118092</td>\n",
              "      <td>-0.279182</td>\n",
              "      <td>0.051272</td>\n",
              "      <td>0.104538</td>\n",
              "      <td>0.108248</td>\n",
              "      <td>0.008551</td>\n",
              "      <td>-0.072859</td>\n",
              "      <td>-0.3135</td>\n",
              "      <td>-0.030967</td>\n",
              "      <td>0.110302</td>\n",
              "      <td>0.524718</td>\n",
              "      <td>-0.012249</td>\n",
              "      <td>-0.053781</td>\n",
              "      <td>-0.098054</td>\n",
              "      <td>0.011739</td>\n",
              "      <td>-0.04072</td>\n",
              "      <td>-0.051724</td>\n",
              "      <td>-0.151357</td>\n",
              "      <td>0.026365</td>\n",
              "      <td>0.286744</td>\n",
              "      <td>0.058973</td>\n",
              "      <td>0.121534</td>\n",
              "      <td>0.229244</td>\n",
              "      <td>-0.08066</td>\n",
              "      <td>-0.082077</td>\n",
              "      <td>-0.003946</td>\n",
              "      <td>0.296829</td>\n",
              "      <td>0.199504</td>\n",
              "      <td>0.634224</td>\n",
              "      <td>0.215482</td>\n",
              "      <td>0.281143</td>\n",
              "      <td>0.367466</td>\n",
              "      <td>0.562623</td>\n",
              "      <td>0.30768</td>\n",
              "      <td>0.40252</td>\n",
              "      <td>0.28677</td>\n",
              "      <td>0.392500</td>\n",
              "      <td>0.384201</td>\n",
              "      <td>0.276878</td>\n",
              "      <td>0.818243</td>\n",
              "    </tr>\n",
              "    <tr>\n",
              "      <th>16312</th>\n",
              "      <td>-0.248346</td>\n",
              "      <td>0.566706</td>\n",
              "      <td>-0.054827</td>\n",
              "      <td>-0.318201</td>\n",
              "      <td>0.657064</td>\n",
              "      <td>-0.300688</td>\n",
              "      <td>-0.024289</td>\n",
              "      <td>-0.058645</td>\n",
              "      <td>0.600697</td>\n",
              "      <td>-0.149242</td>\n",
              "      <td>-0.106904</td>\n",
              "      <td>-0.151303</td>\n",
              "      <td>-0.103373</td>\n",
              "      <td>-0.012091</td>\n",
              "      <td>-0.000181</td>\n",
              "      <td>-0.034383</td>\n",
              "      <td>-0.006951</td>\n",
              "      <td>-0.005241</td>\n",
              "      <td>-0.009601</td>\n",
              "      <td>-0.001083</td>\n",
              "      <td>-0.002193</td>\n",
              "      <td>-0.000228</td>\n",
              "      <td>-0.163941</td>\n",
              "      <td>-0.033672</td>\n",
              "      <td>-0.097436</td>\n",
              "      <td>-0.059469</td>\n",
              "      <td>-0.106564</td>\n",
              "      <td>-0.039189</td>\n",
              "      <td>-0.01978</td>\n",
              "      <td>-0.018894</td>\n",
              "      <td>-0.028346</td>\n",
              "      <td>-0.006431</td>\n",
              "      <td>-0.005082</td>\n",
              "      <td>-0.003101</td>\n",
              "      <td>-0.001131</td>\n",
              "      <td>-0.169952</td>\n",
              "      <td>-0.119951</td>\n",
              "      <td>0.899133</td>\n",
              "      <td>-0.026153</td>\n",
              "      <td>-0.043538</td>\n",
              "      <td>...</td>\n",
              "      <td>-0.024765</td>\n",
              "      <td>-0.279182</td>\n",
              "      <td>-0.198728</td>\n",
              "      <td>-0.228796</td>\n",
              "      <td>0.358248</td>\n",
              "      <td>0.008551</td>\n",
              "      <td>0.593808</td>\n",
              "      <td>0.6865</td>\n",
              "      <td>0.035699</td>\n",
              "      <td>0.038873</td>\n",
              "      <td>-0.030837</td>\n",
              "      <td>-0.012249</td>\n",
              "      <td>0.029552</td>\n",
              "      <td>0.089446</td>\n",
              "      <td>-0.040892</td>\n",
              "      <td>-0.04072</td>\n",
              "      <td>0.053540</td>\n",
              "      <td>0.048643</td>\n",
              "      <td>0.026365</td>\n",
              "      <td>0.179052</td>\n",
              "      <td>-0.074360</td>\n",
              "      <td>0.221534</td>\n",
              "      <td>0.395911</td>\n",
              "      <td>-0.08066</td>\n",
              "      <td>0.008832</td>\n",
              "      <td>0.119131</td>\n",
              "      <td>0.637419</td>\n",
              "      <td>0.422197</td>\n",
              "      <td>0.280933</td>\n",
              "      <td>0.761209</td>\n",
              "      <td>0.696981</td>\n",
              "      <td>0.646468</td>\n",
              "      <td>0.411042</td>\n",
              "      <td>0.52450</td>\n",
              "      <td>0.64873</td>\n",
              "      <td>0.79139</td>\n",
              "      <td>0.492200</td>\n",
              "      <td>0.500382</td>\n",
              "      <td>0.689974</td>\n",
              "      <td>0.387539</td>\n",
              "    </tr>\n",
              "    <tr>\n",
              "      <th>97332</th>\n",
              "      <td>-0.248346</td>\n",
              "      <td>-0.433294</td>\n",
              "      <td>-0.054827</td>\n",
              "      <td>0.681799</td>\n",
              "      <td>0.657064</td>\n",
              "      <td>-0.300688</td>\n",
              "      <td>-0.024289</td>\n",
              "      <td>-0.058645</td>\n",
              "      <td>-0.399303</td>\n",
              "      <td>-0.149242</td>\n",
              "      <td>-0.106904</td>\n",
              "      <td>-0.151303</td>\n",
              "      <td>-0.103373</td>\n",
              "      <td>-0.012091</td>\n",
              "      <td>-0.000181</td>\n",
              "      <td>-0.034383</td>\n",
              "      <td>-0.006951</td>\n",
              "      <td>-0.005241</td>\n",
              "      <td>-0.009601</td>\n",
              "      <td>-0.001083</td>\n",
              "      <td>-0.002193</td>\n",
              "      <td>-0.000228</td>\n",
              "      <td>0.836059</td>\n",
              "      <td>-0.033672</td>\n",
              "      <td>0.902564</td>\n",
              "      <td>0.940531</td>\n",
              "      <td>0.893436</td>\n",
              "      <td>-0.039189</td>\n",
              "      <td>-0.01978</td>\n",
              "      <td>-0.018894</td>\n",
              "      <td>-0.028346</td>\n",
              "      <td>-0.006431</td>\n",
              "      <td>-0.005082</td>\n",
              "      <td>-0.003101</td>\n",
              "      <td>-0.001131</td>\n",
              "      <td>-0.169952</td>\n",
              "      <td>-0.119951</td>\n",
              "      <td>-0.100867</td>\n",
              "      <td>-0.026153</td>\n",
              "      <td>0.956462</td>\n",
              "      <td>...</td>\n",
              "      <td>-0.167622</td>\n",
              "      <td>-0.279182</td>\n",
              "      <td>0.051272</td>\n",
              "      <td>0.104538</td>\n",
              "      <td>0.108248</td>\n",
              "      <td>0.008551</td>\n",
              "      <td>-0.072859</td>\n",
              "      <td>-0.3135</td>\n",
              "      <td>-0.030967</td>\n",
              "      <td>0.467445</td>\n",
              "      <td>-0.141948</td>\n",
              "      <td>-0.012249</td>\n",
              "      <td>0.279552</td>\n",
              "      <td>0.026946</td>\n",
              "      <td>0.169634</td>\n",
              "      <td>-0.04072</td>\n",
              "      <td>-0.104355</td>\n",
              "      <td>-0.151357</td>\n",
              "      <td>0.026365</td>\n",
              "      <td>-0.228640</td>\n",
              "      <td>0.392306</td>\n",
              "      <td>-0.158466</td>\n",
              "      <td>-0.420756</td>\n",
              "      <td>-0.08066</td>\n",
              "      <td>-0.082077</td>\n",
              "      <td>0.112977</td>\n",
              "      <td>0.444104</td>\n",
              "      <td>0.737068</td>\n",
              "      <td>0.865911</td>\n",
              "      <td>0.222469</td>\n",
              "      <td>0.281143</td>\n",
              "      <td>0.471277</td>\n",
              "      <td>0.684165</td>\n",
              "      <td>0.36636</td>\n",
              "      <td>0.50420</td>\n",
              "      <td>0.34928</td>\n",
              "      <td>0.853569</td>\n",
              "      <td>0.852865</td>\n",
              "      <td>0.318646</td>\n",
              "      <td>0.356840</td>\n",
              "    </tr>\n",
              "    <tr>\n",
              "      <th>41478</th>\n",
              "      <td>-0.248346</td>\n",
              "      <td>0.566706</td>\n",
              "      <td>0.945173</td>\n",
              "      <td>-0.318201</td>\n",
              "      <td>-0.342936</td>\n",
              "      <td>-0.300688</td>\n",
              "      <td>0.975711</td>\n",
              "      <td>0.941355</td>\n",
              "      <td>-0.399303</td>\n",
              "      <td>-0.149242</td>\n",
              "      <td>-0.106904</td>\n",
              "      <td>-0.151303</td>\n",
              "      <td>-0.103373</td>\n",
              "      <td>0.987909</td>\n",
              "      <td>-0.000181</td>\n",
              "      <td>-0.034383</td>\n",
              "      <td>0.993049</td>\n",
              "      <td>-0.005241</td>\n",
              "      <td>0.990399</td>\n",
              "      <td>-0.001083</td>\n",
              "      <td>-0.002193</td>\n",
              "      <td>-0.000228</td>\n",
              "      <td>-0.163941</td>\n",
              "      <td>-0.033672</td>\n",
              "      <td>-0.097436</td>\n",
              "      <td>-0.059469</td>\n",
              "      <td>-0.106564</td>\n",
              "      <td>-0.039189</td>\n",
              "      <td>-0.01978</td>\n",
              "      <td>-0.018894</td>\n",
              "      <td>-0.028346</td>\n",
              "      <td>-0.006431</td>\n",
              "      <td>-0.005082</td>\n",
              "      <td>-0.003101</td>\n",
              "      <td>-0.001131</td>\n",
              "      <td>-0.169952</td>\n",
              "      <td>-0.119951</td>\n",
              "      <td>-0.100867</td>\n",
              "      <td>-0.026153</td>\n",
              "      <td>-0.043538</td>\n",
              "      <td>...</td>\n",
              "      <td>-0.024765</td>\n",
              "      <td>0.554151</td>\n",
              "      <td>0.051272</td>\n",
              "      <td>0.104538</td>\n",
              "      <td>0.108248</td>\n",
              "      <td>0.008551</td>\n",
              "      <td>-0.072859</td>\n",
              "      <td>-0.3135</td>\n",
              "      <td>-0.030967</td>\n",
              "      <td>-0.175413</td>\n",
              "      <td>0.024718</td>\n",
              "      <td>0.112751</td>\n",
              "      <td>-0.053781</td>\n",
              "      <td>-0.098054</td>\n",
              "      <td>0.011739</td>\n",
              "      <td>0.02178</td>\n",
              "      <td>-0.104355</td>\n",
              "      <td>-0.351357</td>\n",
              "      <td>0.026365</td>\n",
              "      <td>-0.228640</td>\n",
              "      <td>-0.074360</td>\n",
              "      <td>-0.098466</td>\n",
              "      <td>-0.137422</td>\n",
              "      <td>-0.08066</td>\n",
              "      <td>-0.082077</td>\n",
              "      <td>-0.207023</td>\n",
              "      <td>0.484469</td>\n",
              "      <td>0.681761</td>\n",
              "      <td>0.549770</td>\n",
              "      <td>0.452887</td>\n",
              "      <td>0.499798</td>\n",
              "      <td>0.350688</td>\n",
              "      <td>0.363197</td>\n",
              "      <td>0.58354</td>\n",
              "      <td>0.44352</td>\n",
              "      <td>0.39599</td>\n",
              "      <td>0.341813</td>\n",
              "      <td>0.352251</td>\n",
              "      <td>0.339244</td>\n",
              "      <td>0.714526</td>\n",
              "    </tr>\n",
              "  </tbody>\n",
              "</table>\n",
              "<p>5 rows × 130 columns</p>\n",
              "</div>"
            ],
            "text/plain": [
              "           cat1      cat2      cat3  ...    cont12    cont13    cont14\n",
              "35320 -0.248346  0.566706  0.945173  ...  0.714544  0.751507  0.793129\n",
              "11967  0.751654  0.566706 -0.054827  ...  0.384201  0.276878  0.818243\n",
              "16312 -0.248346  0.566706 -0.054827  ...  0.500382  0.689974  0.387539\n",
              "97332 -0.248346 -0.433294 -0.054827  ...  0.852865  0.318646  0.356840\n",
              "41478 -0.248346  0.566706  0.945173  ...  0.352251  0.339244  0.714526\n",
              "\n",
              "[5 rows x 130 columns]"
            ]
          },
          "metadata": {
            "tags": []
          },
          "execution_count": 113
        }
      ]
    },
    {
      "cell_type": "markdown",
      "metadata": {
        "id": "OCEl1TKU7gfF"
      },
      "source": [
        "**Описание модели**"
      ]
    },
    {
      "cell_type": "code",
      "metadata": {
        "id": "xh4Fcrzs7dL1"
      },
      "source": [
        "def build_model(hp):\n",
        "  activation_choice = hp.Choice('activation', values=['relu', 'sigmoid', 'tanh', 'elu', 'selu'])\n",
        "  hidden_layers_choice = hp.Choice('hidden_layers', values=[0, 1, 2])\n",
        "\n",
        "  model = Sequential()\n",
        "  model.add(\n",
        "      Dense(\n",
        "          units=hp.Int(\n",
        "              'input_units',\n",
        "              min_value=128, \n",
        "              max_value=256, \n",
        "              step=16,\n",
        "          ), \n",
        "          input_dim=x_train.shape[1], \n",
        "          activation=activation_choice,\n",
        "      ),\n",
        "  )\n",
        "  model.add(Dropout(0.3))\n",
        "  for i in range(hidden_layers_choice):\n",
        "    model.add(\n",
        "        Dense(\n",
        "            units=hp.Int(\n",
        "                f'layer_{i + 1}_units',\n",
        "                min_value=64 // (i + 1),\n",
        "                max_value=128 // (i + 1),\n",
        "                step=8 // (i + 1),\n",
        "            ),\n",
        "            activation=activation_choice\n",
        "        )\n",
        "    )\n",
        "  model.add(Dense(1))\n",
        "\n",
        "  model.compile(\n",
        "      optimizer='adam', \n",
        "      loss='mae',\n",
        "      metrics=['mae'], \n",
        "  )\n",
        "\n",
        "  return model"
      ],
      "execution_count": null,
      "outputs": []
    },
    {
      "cell_type": "markdown",
      "metadata": {
        "id": "KAlL-bA77r7J"
      },
      "source": [
        "**Создание тюнера**"
      ]
    },
    {
      "cell_type": "code",
      "metadata": {
        "id": "sLPVdEhE70sK"
      },
      "source": [
        "tuner = Hyperband(\n",
        "    build_model,\n",
        "    objective='mae',\n",
        "    factor = 3, \n",
        "    hyperband_iterations = 2,\n",
        "    max_epochs=10,\n",
        "    directory='models',\n",
        "    project_name='lab1',\n",
        ")"
      ],
      "execution_count": null,
      "outputs": []
    },
    {
      "cell_type": "code",
      "metadata": {
        "id": "gqEBWZe5tOe8",
        "outputId": "18759e7f-73e1-4675-b3ce-4bbec988fd75",
        "colab": {
          "base_uri": "https://localhost:8080/",
          "height": 366
        }
      },
      "source": [
        "tuner.search_space_summary()"
      ],
      "execution_count": null,
      "outputs": [
        {
          "output_type": "display_data",
          "data": {
            "text/html": [
              "<span style=\"color:#4527A0\"><h1 style=\"font-size:18px\">Search space summary</h1></span>"
            ],
            "text/plain": [
              "<IPython.core.display.HTML object>"
            ]
          },
          "metadata": {
            "tags": []
          }
        },
        {
          "output_type": "display_data",
          "data": {
            "text/html": [
              "<span style=\"color:cyan\"> |-Default search space size: 3</span>"
            ],
            "text/plain": [
              "<IPython.core.display.HTML object>"
            ]
          },
          "metadata": {
            "tags": []
          }
        },
        {
          "output_type": "display_data",
          "data": {
            "text/html": [
              "<span style=\"color:#7E57C2\"><h2 style=\"font-size:16px\">activation (Choice)</h2></span>"
            ],
            "text/plain": [
              "<IPython.core.display.HTML object>"
            ]
          },
          "metadata": {
            "tags": []
          }
        },
        {
          "output_type": "display_data",
          "data": {
            "text/html": [
              "<span style=\"color:cyan\"> |-default: relu</span>"
            ],
            "text/plain": [
              "<IPython.core.display.HTML object>"
            ]
          },
          "metadata": {
            "tags": []
          }
        },
        {
          "output_type": "display_data",
          "data": {
            "text/html": [
              "<span style=\"color:blue\"> |-ordered: False</span>"
            ],
            "text/plain": [
              "<IPython.core.display.HTML object>"
            ]
          },
          "metadata": {
            "tags": []
          }
        },
        {
          "output_type": "display_data",
          "data": {
            "text/html": [
              "<span style=\"color:cyan\"> |-values: ['relu', 'sigmoid', 'tanh', 'elu', 'selu']</span>"
            ],
            "text/plain": [
              "<IPython.core.display.HTML object>"
            ]
          },
          "metadata": {
            "tags": []
          }
        },
        {
          "output_type": "display_data",
          "data": {
            "text/html": [
              "<span style=\"color:#7E57C2\"><h2 style=\"font-size:16px\">hidden_layers (Choice)</h2></span>"
            ],
            "text/plain": [
              "<IPython.core.display.HTML object>"
            ]
          },
          "metadata": {
            "tags": []
          }
        },
        {
          "output_type": "display_data",
          "data": {
            "text/html": [
              "<span style=\"color:cyan\"> |-default: 0</span>"
            ],
            "text/plain": [
              "<IPython.core.display.HTML object>"
            ]
          },
          "metadata": {
            "tags": []
          }
        },
        {
          "output_type": "display_data",
          "data": {
            "text/html": [
              "<span style=\"color:blue\"> |-ordered: True</span>"
            ],
            "text/plain": [
              "<IPython.core.display.HTML object>"
            ]
          },
          "metadata": {
            "tags": []
          }
        },
        {
          "output_type": "display_data",
          "data": {
            "text/html": [
              "<span style=\"color:cyan\"> |-values: [0, 1, 2]</span>"
            ],
            "text/plain": [
              "<IPython.core.display.HTML object>"
            ]
          },
          "metadata": {
            "tags": []
          }
        },
        {
          "output_type": "display_data",
          "data": {
            "text/html": [
              "<span style=\"color:#7E57C2\"><h2 style=\"font-size:16px\">input_units (Int)</h2></span>"
            ],
            "text/plain": [
              "<IPython.core.display.HTML object>"
            ]
          },
          "metadata": {
            "tags": []
          }
        },
        {
          "output_type": "display_data",
          "data": {
            "text/html": [
              "<span style=\"color:cyan\"> |-default: None</span>"
            ],
            "text/plain": [
              "<IPython.core.display.HTML object>"
            ]
          },
          "metadata": {
            "tags": []
          }
        },
        {
          "output_type": "display_data",
          "data": {
            "text/html": [
              "<span style=\"color:blue\"> |-max_value: 256</span>"
            ],
            "text/plain": [
              "<IPython.core.display.HTML object>"
            ]
          },
          "metadata": {
            "tags": []
          }
        },
        {
          "output_type": "display_data",
          "data": {
            "text/html": [
              "<span style=\"color:cyan\"> |-min_value: 128</span>"
            ],
            "text/plain": [
              "<IPython.core.display.HTML object>"
            ]
          },
          "metadata": {
            "tags": []
          }
        },
        {
          "output_type": "display_data",
          "data": {
            "text/html": [
              "<span style=\"color:blue\"> |-sampling: None</span>"
            ],
            "text/plain": [
              "<IPython.core.display.HTML object>"
            ]
          },
          "metadata": {
            "tags": []
          }
        },
        {
          "output_type": "display_data",
          "data": {
            "text/html": [
              "<span style=\"color:cyan\"> |-step: 16</span>"
            ],
            "text/plain": [
              "<IPython.core.display.HTML object>"
            ]
          },
          "metadata": {
            "tags": []
          }
        }
      ]
    },
    {
      "cell_type": "markdown",
      "metadata": {
        "id": "BM7DrtMH8Zhd"
      },
      "source": [
        "**Очистка результатов в конце каждого шага обучения и поиск оптимальных гиперпараметров**"
      ]
    },
    {
      "cell_type": "code",
      "metadata": {
        "id": "Xq4xpAmpW-TT"
      },
      "source": [
        "class ClearTrainingOutput(Callback):\n",
        "  def on_train_end(*args, **kwargs):\n",
        "    IPython.display.clear_output(wait = True)\n"
      ],
      "execution_count": null,
      "outputs": []
    },
    {
      "cell_type": "code",
      "metadata": {
        "id": "o4rtEdoM8Qoe",
        "outputId": "f76014c7-f6c7-4972-eab6-36522c8dae86",
        "colab": {
          "base_uri": "https://localhost:8080/",
          "height": 343
        }
      },
      "source": [
        "tuner.search(\n",
        "    x_train,\n",
        "    y_train,\n",
        "    validation_split=0.2,\n",
        "    verbose=2,\n",
        "    callbacks = [ClearTrainingOutput()],\n",
        ")"
      ],
      "execution_count": null,
      "outputs": [
        {
          "output_type": "display_data",
          "data": {
            "text/html": [
              "<span style=\"color:#4527A0\"><h1 style=\"font-size:18px\">Trial complete</h1></span>"
            ],
            "text/plain": [
              "<IPython.core.display.HTML object>"
            ]
          },
          "metadata": {
            "tags": []
          }
        },
        {
          "output_type": "display_data",
          "data": {
            "text/html": [
              "<span style=\"color:#4527A0\"><h1 style=\"font-size:18px\">Trial summary</h1></span>"
            ],
            "text/plain": [
              "<IPython.core.display.HTML object>"
            ]
          },
          "metadata": {
            "tags": []
          }
        },
        {
          "output_type": "display_data",
          "data": {
            "text/html": [
              "<span style=\"color:cyan\"> |-Trial ID: 93041d00d8a7b2b9962ce399736776f1</span>"
            ],
            "text/plain": [
              "<IPython.core.display.HTML object>"
            ]
          },
          "metadata": {
            "tags": []
          }
        },
        {
          "output_type": "display_data",
          "data": {
            "text/html": [
              "<span style=\"color:cyan\"> |-Score: 1895.30029296875</span>"
            ],
            "text/plain": [
              "<IPython.core.display.HTML object>"
            ]
          },
          "metadata": {
            "tags": []
          }
        },
        {
          "output_type": "display_data",
          "data": {
            "text/html": [
              "<span style=\"color:cyan\"> |-Best step: 0</span>"
            ],
            "text/plain": [
              "<IPython.core.display.HTML object>"
            ]
          },
          "metadata": {
            "tags": []
          }
        },
        {
          "output_type": "display_data",
          "data": {
            "text/html": [
              "<span style=\"color:#7E57C2\"><h2 style=\"font-size:16px\">Hyperparameters:</h2></span>"
            ],
            "text/plain": [
              "<IPython.core.display.HTML object>"
            ]
          },
          "metadata": {
            "tags": []
          }
        },
        {
          "output_type": "display_data",
          "data": {
            "text/html": [
              "<span style=\"color:cyan\"> |-activation: sigmoid</span>"
            ],
            "text/plain": [
              "<IPython.core.display.HTML object>"
            ]
          },
          "metadata": {
            "tags": []
          }
        },
        {
          "output_type": "display_data",
          "data": {
            "text/html": [
              "<span style=\"color:blue\"> |-hidden_layers: 2</span>"
            ],
            "text/plain": [
              "<IPython.core.display.HTML object>"
            ]
          },
          "metadata": {
            "tags": []
          }
        },
        {
          "output_type": "display_data",
          "data": {
            "text/html": [
              "<span style=\"color:cyan\"> |-input_units: 192</span>"
            ],
            "text/plain": [
              "<IPython.core.display.HTML object>"
            ]
          },
          "metadata": {
            "tags": []
          }
        },
        {
          "output_type": "display_data",
          "data": {
            "text/html": [
              "<span style=\"color:blue\"> |-layer_1_units: 88</span>"
            ],
            "text/plain": [
              "<IPython.core.display.HTML object>"
            ]
          },
          "metadata": {
            "tags": []
          }
        },
        {
          "output_type": "display_data",
          "data": {
            "text/html": [
              "<span style=\"color:cyan\"> |-layer_2_units: 52</span>"
            ],
            "text/plain": [
              "<IPython.core.display.HTML object>"
            ]
          },
          "metadata": {
            "tags": []
          }
        },
        {
          "output_type": "display_data",
          "data": {
            "text/html": [
              "<span style=\"color:blue\"> |-tuner/bracket: 0</span>"
            ],
            "text/plain": [
              "<IPython.core.display.HTML object>"
            ]
          },
          "metadata": {
            "tags": []
          }
        },
        {
          "output_type": "display_data",
          "data": {
            "text/html": [
              "<span style=\"color:cyan\"> |-tuner/epochs: 10</span>"
            ],
            "text/plain": [
              "<IPython.core.display.HTML object>"
            ]
          },
          "metadata": {
            "tags": []
          }
        },
        {
          "output_type": "display_data",
          "data": {
            "text/html": [
              "<span style=\"color:blue\"> |-tuner/initial_epoch: 0</span>"
            ],
            "text/plain": [
              "<IPython.core.display.HTML object>"
            ]
          },
          "metadata": {
            "tags": []
          }
        },
        {
          "output_type": "display_data",
          "data": {
            "text/html": [
              "<span style=\"color:cyan\"> |-tuner/round: 0</span>"
            ],
            "text/plain": [
              "<IPython.core.display.HTML object>"
            ]
          },
          "metadata": {
            "tags": []
          }
        },
        {
          "output_type": "stream",
          "text": [
            "INFO:tensorflow:Oracle triggered exit\n"
          ],
          "name": "stdout"
        }
      ]
    },
    {
      "cell_type": "markdown",
      "metadata": {
        "id": "tlijJNY08sEg"
      },
      "source": [
        "**Создание модели**"
      ]
    },
    {
      "cell_type": "code",
      "metadata": {
        "id": "kFAVtJ1Z5jhy",
        "outputId": "25c78b5b-df13-4426-adbf-7dd0ee71d9b3",
        "colab": {
          "base_uri": "https://localhost:8080/",
          "height": 319
        }
      },
      "source": [
        "best_hps = tuner.get_best_hyperparameters()[0]\n",
        "model = tuner.hypermodel.build(best_hps)\n",
        "model.summary()"
      ],
      "execution_count": null,
      "outputs": [
        {
          "output_type": "stream",
          "text": [
            "Model: \"sequential\"\n",
            "_________________________________________________________________\n",
            "Layer (type)                 Output Shape              Param #   \n",
            "=================================================================\n",
            "dense (Dense)                (None, 208)               27248     \n",
            "_________________________________________________________________\n",
            "dropout (Dropout)            (None, 208)               0         \n",
            "_________________________________________________________________\n",
            "dense_1 (Dense)              (None, 112)               23408     \n",
            "_________________________________________________________________\n",
            "dense_2 (Dense)              (None, 44)                4972      \n",
            "_________________________________________________________________\n",
            "dense_3 (Dense)              (None, 1)                 45        \n",
            "=================================================================\n",
            "Total params: 55,673\n",
            "Trainable params: 55,673\n",
            "Non-trainable params: 0\n",
            "_________________________________________________________________\n"
          ],
          "name": "stdout"
        }
      ]
    },
    {
      "cell_type": "markdown",
      "metadata": {
        "id": "oZf3XkfL9EqH"
      },
      "source": [
        "**Обучаем модель**"
      ]
    },
    {
      "cell_type": "code",
      "metadata": {
        "id": "1EcFPWZcLmRl",
        "outputId": "7d38c8a6-5b03-4784-a54c-d557ed0a147c",
        "colab": {
          "base_uri": "https://localhost:8080/",
          "height": 857
        }
      },
      "source": [
        "history = model.fit(x_train, y_train, epochs=25, batch_size=30, validation_split=0.2, verbose=2)"
      ],
      "execution_count": null,
      "outputs": [
        {
          "output_type": "stream",
          "text": [
            "Epoch 1/25\n",
            "3516/3516 - 5s - loss: 1341.1865 - mae: 1341.1865 - val_loss: 1279.5129 - val_mae: 1279.5129\n",
            "Epoch 2/25\n",
            "3516/3516 - 5s - loss: 1264.2582 - mae: 1264.2582 - val_loss: 1247.2667 - val_mae: 1247.2670\n",
            "Epoch 3/25\n",
            "3516/3516 - 5s - loss: 1235.9043 - mae: 1235.9043 - val_loss: 1226.9608 - val_mae: 1226.9608\n",
            "Epoch 4/25\n",
            "3516/3516 - 5s - loss: 1220.4290 - mae: 1220.4290 - val_loss: 1215.6100 - val_mae: 1215.6100\n",
            "Epoch 5/25\n",
            "3516/3516 - 5s - loss: 1212.1815 - mae: 1212.1815 - val_loss: 1211.5972 - val_mae: 1211.5972\n",
            "Epoch 6/25\n",
            "3516/3516 - 5s - loss: 1206.8115 - mae: 1206.8115 - val_loss: 1208.2439 - val_mae: 1208.2439\n",
            "Epoch 7/25\n",
            "3516/3516 - 5s - loss: 1202.3840 - mae: 1202.3840 - val_loss: 1202.9548 - val_mae: 1202.9548\n",
            "Epoch 8/25\n",
            "3516/3516 - 5s - loss: 1199.3203 - mae: 1199.3203 - val_loss: 1205.8092 - val_mae: 1205.8092\n",
            "Epoch 9/25\n",
            "3516/3516 - 5s - loss: 1196.0966 - mae: 1196.0966 - val_loss: 1198.5536 - val_mae: 1198.5536\n",
            "Epoch 10/25\n",
            "3516/3516 - 5s - loss: 1194.3372 - mae: 1194.3372 - val_loss: 1207.8815 - val_mae: 1207.8815\n",
            "Epoch 11/25\n",
            "3516/3516 - 5s - loss: 1190.5203 - mae: 1190.5203 - val_loss: 1196.6625 - val_mae: 1196.6625\n",
            "Epoch 12/25\n",
            "3516/3516 - 5s - loss: 1188.9397 - mae: 1188.9397 - val_loss: 1196.1127 - val_mae: 1196.1127\n",
            "Epoch 13/25\n",
            "3516/3516 - 5s - loss: 1186.8707 - mae: 1186.8707 - val_loss: 1198.6917 - val_mae: 1198.6917\n",
            "Epoch 14/25\n",
            "3516/3516 - 5s - loss: 1185.7157 - mae: 1185.7157 - val_loss: 1196.7676 - val_mae: 1196.7676\n",
            "Epoch 15/25\n",
            "3516/3516 - 5s - loss: 1184.3245 - mae: 1184.3245 - val_loss: 1196.8881 - val_mae: 1196.8881\n",
            "Epoch 16/25\n",
            "3516/3516 - 5s - loss: 1182.3259 - mae: 1182.3259 - val_loss: 1194.3263 - val_mae: 1194.3263\n",
            "Epoch 17/25\n",
            "3516/3516 - 5s - loss: 1181.2147 - mae: 1181.2147 - val_loss: 1191.1753 - val_mae: 1191.1753\n",
            "Epoch 18/25\n",
            "3516/3516 - 5s - loss: 1180.0399 - mae: 1180.0399 - val_loss: 1193.1637 - val_mae: 1193.1637\n",
            "Epoch 19/25\n",
            "3516/3516 - 5s - loss: 1179.5271 - mae: 1179.5271 - val_loss: 1190.6232 - val_mae: 1190.6232\n",
            "Epoch 20/25\n",
            "3516/3516 - 5s - loss: 1177.5105 - mae: 1177.5105 - val_loss: 1190.8286 - val_mae: 1190.8286\n",
            "Epoch 21/25\n",
            "3516/3516 - 5s - loss: 1175.5725 - mae: 1175.5725 - val_loss: 1194.8743 - val_mae: 1194.8743\n",
            "Epoch 22/25\n",
            "3516/3516 - 5s - loss: 1174.7758 - mae: 1174.7758 - val_loss: 1188.1041 - val_mae: 1188.1041\n",
            "Epoch 23/25\n",
            "3516/3516 - 5s - loss: 1175.4690 - mae: 1175.4690 - val_loss: 1190.1444 - val_mae: 1190.1444\n",
            "Epoch 24/25\n",
            "3516/3516 - 5s - loss: 1172.4143 - mae: 1172.4143 - val_loss: 1190.2019 - val_mae: 1190.2019\n",
            "Epoch 25/25\n",
            "3516/3516 - 5s - loss: 1170.8090 - mae: 1170.8090 - val_loss: 1190.8374 - val_mae: 1190.8374\n"
          ],
          "name": "stdout"
        }
      ]
    },
    {
      "cell_type": "markdown",
      "metadata": {
        "id": "bcMm659a9rB1"
      },
      "source": [
        "**Сохраняем модель**"
      ]
    },
    {
      "cell_type": "code",
      "metadata": {
        "id": "cGtWPVcy9dbr"
      },
      "source": [
        "model.save(f'/content/drive/My Drive/lab1.h5')"
      ],
      "execution_count": null,
      "outputs": []
    },
    {
      "cell_type": "markdown",
      "metadata": {
        "id": "VKRj7X2GAMGA"
      },
      "source": [
        "**Строим график потерь**"
      ]
    },
    {
      "cell_type": "code",
      "metadata": {
        "id": "nB2ibHhfEjuZ",
        "outputId": "da5d315d-5433-4a79-cc24-9571d10e81b6",
        "colab": {
          "base_uri": "https://localhost:8080/",
          "height": 312
        }
      },
      "source": [
        "def graphs(history):\n",
        "  history = history.history\n",
        "  loss = history[\"loss\"]\n",
        "  val_loss = history[\"val_loss\"]\n",
        "  epochs = range(1, len(history['loss']) + 1)\n",
        "  plt.plot(epochs, loss, 'r', label='Training loss')\n",
        "  plt.plot(epochs, val_loss, 'b', label='Validation loss')\n",
        "  plt.title('Training and validation loss')\n",
        "  plt.xlabel('Epochs')\n",
        "  plt.ylabel('Loss')\n",
        "  plt.legend()\n",
        "  plt.show()\n",
        "  plt.clf()\n",
        "\n",
        "graphs(history)"
      ],
      "execution_count": null,
      "outputs": [
        {
          "output_type": "display_data",
          "data": {
            "image/png": "[encoded data removed]",
            "text/plain": [
              "<Figure size 432x288 with 1 Axes>"
            ]
          },
          "metadata": {
            "tags": [],
            "needs_background": "light"
          }
        },
        {
          "output_type": "display_data",
          "data": {
            "text/plain": [
              "<Figure size 432x288 with 0 Axes>"
            ]
          },
          "metadata": {
            "tags": []
          }
        }
      ]
    },
    {
      "cell_type": "code",
      "metadata": {
        "id": "3qiIisHOa8aD",
        "outputId": "5ef25745-f1c6-4a5e-e1ed-765e709ac19a",
        "colab": {
          "base_uri": "https://localhost:8080/",
          "height": 34
        }
      },
      "source": [
        "mae = model.evaluate(x_test, y_test, verbose=0)[1]\n",
        "print(f'Средняя абсолютная ошибка = {mae}')"
      ],
      "execution_count": null,
      "outputs": [
        {
          "output_type": "stream",
          "text": [
            "Средняя абсолютная ошибка = 1181.644287109375\n"
          ],
          "name": "stdout"
        }
      ]
    },
    {
      "cell_type": "markdown",
      "metadata": {
        "id": "pHOIK7qaOns1"
      },
      "source": [
        "**Выполняем предсказание для тестовой выборки**"
      ]
    },
    {
      "cell_type": "code",
      "metadata": {
        "id": "5LYrptorOjPe"
      },
      "source": [
        "pred = model.predict(x_test)"
      ],
      "execution_count": null,
      "outputs": []
    },
    {
      "cell_type": "markdown",
      "metadata": {
        "id": "TTw_JA5TOiYF"
      },
      "source": [
        "**Печатаем примеры результатов**"
      ]
    },
    {
      "cell_type": "code",
      "metadata": {
        "id": "cdHMXW1q3g5P"
      },
      "source": [
        "y_test_normal=y_test.reset_index(drop=True)"
      ],
      "execution_count": null,
      "outputs": []
    },
    {
      "cell_type": "code",
      "metadata": {
        "id": "L5KdJducOuwt",
        "outputId": "ed88edcf-61e1-4632-accb-72314d83747a",
        "colab": {
          "base_uri": "https://localhost:8080/",
          "height": 218
        }
      },
      "source": [
        "for i in range(0,4):\n",
        "  print(\"Предсказанная выплата:\", pred[i])\n",
        "  print(\"Реальная выплата:\", y_test_normal[i])\n",
        "  print(\"\")"
      ],
      "execution_count": null,
      "outputs": [
        {
          "output_type": "stream",
          "text": [
            "Предсказанная выплата: [1636.6881]\n",
            "Реальная выплата: 2213.18\n",
            "\n",
            "Предсказанная выплата: [4732.258]\n",
            "Реальная выплата: 3005.09\n",
            "\n",
            "Предсказанная выплата: [3674.7288]\n",
            "Реальная выплата: 2763.85\n",
            "\n",
            "Предсказанная выплата: [1341.699]\n",
            "Реальная выплата: 1132.22\n",
            "\n"
          ],
          "name": "stdout"
        }
      ]
    },
    {
      "cell_type": "code",
      "metadata": {
        "id": "O6rb4tbBp8H_",
        "outputId": "774ef300-7a67-4555-f83f-29a6b390ed07",
        "colab": {
          "base_uri": "https://localhost:8080/",
          "height": 337
        }
      },
      "source": [
        "x = range(1, len(y_test)+1)\n",
        "plt.figure(figsize=(20,5))\n",
        "plt.plot(x, y_test, 'b', label='plot')\n",
        "plt.plot(x, pred, 'r', label='plot')\n",
        "\n",
        "plt.legend()\n",
        "plt.show()\n",
        "plt.clf()"
      ],
      "execution_count": null,
      "outputs": [
        {
          "output_type": "display_data",
          "data": {
            "image/png": "[encoded data removed]",
            "text/plain": [
              "<Figure size 1440x360 with 1 Axes>"
            ]
          },
          "metadata": {
            "tags": [],
            "needs_background": "light"
          }
        },
        {
          "output_type": "display_data",
          "data": {
            "text/plain": [
              "<Figure size 432x288 with 0 Axes>"
            ]
          },
          "metadata": {
            "tags": []
          }
        }
      ]
    },
    {
      "cell_type": "code",
      "metadata": {
        "id": "XjCmkaPUrxFD",
        "outputId": "bb79eaff-ef3c-4660-894f-a4d2c5f1dfb4",
        "colab": {
          "base_uri": "https://localhost:8080/",
          "height": 50
        }
      },
      "source": [
        "pred_corr=pred.flatten()\n",
        "np.corrcoef(pred_corr, y_test.values)"
      ],
      "execution_count": null,
      "outputs": [
        {
          "output_type": "execute_result",
          "data": {
            "text/plain": [
              "array([[1.        , 0.73013841],\n",
              "       [0.73013841, 1.        ]])"
            ]
          },
          "metadata": {
            "tags": []
          },
          "execution_count": 123
        }
      ]
    }
  ]
}